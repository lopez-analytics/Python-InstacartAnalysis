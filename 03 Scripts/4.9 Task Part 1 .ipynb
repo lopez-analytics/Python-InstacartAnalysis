{
 "cells": [
  {
   "cell_type": "markdown",
   "id": "b8d7517d-4ab6-4bc2-a82a-95ec69b07a84",
   "metadata": {},
   "source": [
    "## 01. Import libraries"
   ]
  },
  {
   "cell_type": "code",
   "execution_count": 3,
   "id": "0eed97af-324d-4d27-b216-bd068663ee03",
   "metadata": {},
   "outputs": [],
   "source": [
    "import pandas as pd\n",
    "import numpy as np\n",
    "import os\n",
    "import matplotlib.pyplot as plt\n",
    "import seaborn as sns\n",
    "import scipy"
   ]
  },
  {
   "cell_type": "markdown",
   "id": "b50ba12d-d0cf-4879-a24a-3174283c5f72",
   "metadata": {},
   "source": [
    "## 02. Create file path"
   ]
  },
  {
   "cell_type": "code",
   "execution_count": 5,
   "id": "695fc7c2-e512-4758-bb7c-3d1c760c05ee",
   "metadata": {},
   "outputs": [],
   "source": [
    "# Turn Project Folder into Path\n",
    "path = r'/Users/tanayawinder/Desktop/6-27-2024 Instant Cart Basket Analysis'"
   ]
  },
  {
   "cell_type": "code",
   "execution_count": 7,
   "id": "d2b1a01e-5518-4ad3-a373-3f14d48f9650",
   "metadata": {},
   "outputs": [
    {
     "data": {
      "text/plain": [
       "'/Users/tanayawinder/Desktop/6-27-2024 Instant Cart Basket Analysis'"
      ]
     },
     "execution_count": 7,
     "metadata": {},
     "output_type": "execute_result"
    }
   ],
   "source": [
    "# Check output\n",
    "path"
   ]
  },
  {
   "cell_type": "markdown",
   "id": "f725165a-ea34-4017-828b-51de9c58164e",
   "metadata": {},
   "source": [
    "## 03. Import Dataset"
   ]
  },
  {
   "cell_type": "code",
   "execution_count": 13,
   "id": "42f591ed-7404-4842-8f4e-2e3150284cb0",
   "metadata": {},
   "outputs": [],
   "source": [
    "# Import customers.csv (Original Data) via OS library\n",
    "\n",
    "df_cust = pd.read_csv(os.path.join(path,'02 Data','Original Data','customers.csv'), index_col = False)"
   ]
  },
  {
   "cell_type": "code",
   "execution_count": 15,
   "id": "b9bcd3d8-59a4-431b-9bdf-489c1c227e36",
   "metadata": {},
   "outputs": [
    {
     "data": {
      "text/plain": [
       "(206209, 10)"
      ]
     },
     "execution_count": 15,
     "metadata": {},
     "output_type": "execute_result"
    }
   ],
   "source": [
    "# Check output\n",
    "\n",
    "df_cust.shape"
   ]
  },
  {
   "cell_type": "code",
   "execution_count": 17,
   "id": "904c59a1-4d14-4b62-87d8-f0aa70109e4e",
   "metadata": {},
   "outputs": [
    {
     "data": {
      "text/html": [
       "<div>\n",
       "<style scoped>\n",
       "    .dataframe tbody tr th:only-of-type {\n",
       "        vertical-align: middle;\n",
       "    }\n",
       "\n",
       "    .dataframe tbody tr th {\n",
       "        vertical-align: top;\n",
       "    }\n",
       "\n",
       "    .dataframe thead th {\n",
       "        text-align: right;\n",
       "    }\n",
       "</style>\n",
       "<table border=\"1\" class=\"dataframe\">\n",
       "  <thead>\n",
       "    <tr style=\"text-align: right;\">\n",
       "      <th></th>\n",
       "      <th>user_id</th>\n",
       "      <th>First Name</th>\n",
       "      <th>Surnam</th>\n",
       "      <th>Gender</th>\n",
       "      <th>STATE</th>\n",
       "      <th>Age</th>\n",
       "      <th>date_joined</th>\n",
       "      <th>n_dependants</th>\n",
       "      <th>fam_status</th>\n",
       "      <th>income</th>\n",
       "    </tr>\n",
       "  </thead>\n",
       "  <tbody>\n",
       "    <tr>\n",
       "      <th>0</th>\n",
       "      <td>26711</td>\n",
       "      <td>Deborah</td>\n",
       "      <td>Esquivel</td>\n",
       "      <td>Female</td>\n",
       "      <td>Missouri</td>\n",
       "      <td>48</td>\n",
       "      <td>1/1/2017</td>\n",
       "      <td>3</td>\n",
       "      <td>married</td>\n",
       "      <td>165665</td>\n",
       "    </tr>\n",
       "    <tr>\n",
       "      <th>1</th>\n",
       "      <td>33890</td>\n",
       "      <td>Patricia</td>\n",
       "      <td>Hart</td>\n",
       "      <td>Female</td>\n",
       "      <td>New Mexico</td>\n",
       "      <td>36</td>\n",
       "      <td>1/1/2017</td>\n",
       "      <td>0</td>\n",
       "      <td>single</td>\n",
       "      <td>59285</td>\n",
       "    </tr>\n",
       "    <tr>\n",
       "      <th>2</th>\n",
       "      <td>65803</td>\n",
       "      <td>Kenneth</td>\n",
       "      <td>Farley</td>\n",
       "      <td>Male</td>\n",
       "      <td>Idaho</td>\n",
       "      <td>35</td>\n",
       "      <td>1/1/2017</td>\n",
       "      <td>2</td>\n",
       "      <td>married</td>\n",
       "      <td>99568</td>\n",
       "    </tr>\n",
       "    <tr>\n",
       "      <th>3</th>\n",
       "      <td>125935</td>\n",
       "      <td>Michelle</td>\n",
       "      <td>Hicks</td>\n",
       "      <td>Female</td>\n",
       "      <td>Iowa</td>\n",
       "      <td>40</td>\n",
       "      <td>1/1/2017</td>\n",
       "      <td>0</td>\n",
       "      <td>single</td>\n",
       "      <td>42049</td>\n",
       "    </tr>\n",
       "    <tr>\n",
       "      <th>4</th>\n",
       "      <td>130797</td>\n",
       "      <td>Ann</td>\n",
       "      <td>Gilmore</td>\n",
       "      <td>Female</td>\n",
       "      <td>Maryland</td>\n",
       "      <td>26</td>\n",
       "      <td>1/1/2017</td>\n",
       "      <td>1</td>\n",
       "      <td>married</td>\n",
       "      <td>40374</td>\n",
       "    </tr>\n",
       "  </tbody>\n",
       "</table>\n",
       "</div>"
      ],
      "text/plain": [
       "   user_id First Name    Surnam  Gender       STATE  Age date_joined  \\\n",
       "0    26711    Deborah  Esquivel  Female    Missouri   48    1/1/2017   \n",
       "1    33890   Patricia      Hart  Female  New Mexico   36    1/1/2017   \n",
       "2    65803    Kenneth    Farley    Male       Idaho   35    1/1/2017   \n",
       "3   125935   Michelle     Hicks  Female        Iowa   40    1/1/2017   \n",
       "4   130797        Ann   Gilmore  Female    Maryland   26    1/1/2017   \n",
       "\n",
       "   n_dependants fam_status  income  \n",
       "0             3    married  165665  \n",
       "1             0     single   59285  \n",
       "2             2    married   99568  \n",
       "3             0     single   42049  \n",
       "4             1    married   40374  "
      ]
     },
     "execution_count": 17,
     "metadata": {},
     "output_type": "execute_result"
    }
   ],
   "source": [
    "df_cust.head()"
   ]
  },
  {
   "cell_type": "markdown",
   "id": "ce1f0d00-d7de-42f8-a1a6-f9b8801e72c5",
   "metadata": {},
   "source": [
    "## 04. 4.9 Task Part 1"
   ]
  },
  {
   "cell_type": "markdown",
   "id": "4e7fabe7-bfbd-4126-b82d-648b6df2e57e",
   "metadata": {},
   "source": [
    "#### Wrangle the data so that it follows consistent logic; for example, rename columns with illogical names and drop columns that don’t add anything to your analysis."
   ]
  },
  {
   "cell_type": "code",
   "execution_count": 22,
   "id": "e71d3871-9abb-4658-b218-290cf8b2d484",
   "metadata": {},
   "outputs": [],
   "source": [
    "# make col names consistent \n",
    "\n",
    "df_cust = df_cust.rename(columns={'Gender': 'gender', 'STATE': 'state', 'Age': 'age', 'n_dependants': 'number_of_dependants', 'fam_status': 'family_status'})"
   ]
  },
  {
   "cell_type": "code",
   "execution_count": 24,
   "id": "1f8173da-533f-4bd6-a5b3-1bdae55437e4",
   "metadata": {},
   "outputs": [
    {
     "data": {
      "text/html": [
       "<div>\n",
       "<style scoped>\n",
       "    .dataframe tbody tr th:only-of-type {\n",
       "        vertical-align: middle;\n",
       "    }\n",
       "\n",
       "    .dataframe tbody tr th {\n",
       "        vertical-align: top;\n",
       "    }\n",
       "\n",
       "    .dataframe thead th {\n",
       "        text-align: right;\n",
       "    }\n",
       "</style>\n",
       "<table border=\"1\" class=\"dataframe\">\n",
       "  <thead>\n",
       "    <tr style=\"text-align: right;\">\n",
       "      <th></th>\n",
       "      <th>user_id</th>\n",
       "      <th>First Name</th>\n",
       "      <th>Surnam</th>\n",
       "      <th>gender</th>\n",
       "      <th>state</th>\n",
       "      <th>age</th>\n",
       "      <th>date_joined</th>\n",
       "      <th>number_of_dependants</th>\n",
       "      <th>family_status</th>\n",
       "      <th>income</th>\n",
       "    </tr>\n",
       "  </thead>\n",
       "  <tbody>\n",
       "    <tr>\n",
       "      <th>0</th>\n",
       "      <td>26711</td>\n",
       "      <td>Deborah</td>\n",
       "      <td>Esquivel</td>\n",
       "      <td>Female</td>\n",
       "      <td>Missouri</td>\n",
       "      <td>48</td>\n",
       "      <td>1/1/2017</td>\n",
       "      <td>3</td>\n",
       "      <td>married</td>\n",
       "      <td>165665</td>\n",
       "    </tr>\n",
       "    <tr>\n",
       "      <th>1</th>\n",
       "      <td>33890</td>\n",
       "      <td>Patricia</td>\n",
       "      <td>Hart</td>\n",
       "      <td>Female</td>\n",
       "      <td>New Mexico</td>\n",
       "      <td>36</td>\n",
       "      <td>1/1/2017</td>\n",
       "      <td>0</td>\n",
       "      <td>single</td>\n",
       "      <td>59285</td>\n",
       "    </tr>\n",
       "    <tr>\n",
       "      <th>2</th>\n",
       "      <td>65803</td>\n",
       "      <td>Kenneth</td>\n",
       "      <td>Farley</td>\n",
       "      <td>Male</td>\n",
       "      <td>Idaho</td>\n",
       "      <td>35</td>\n",
       "      <td>1/1/2017</td>\n",
       "      <td>2</td>\n",
       "      <td>married</td>\n",
       "      <td>99568</td>\n",
       "    </tr>\n",
       "    <tr>\n",
       "      <th>3</th>\n",
       "      <td>125935</td>\n",
       "      <td>Michelle</td>\n",
       "      <td>Hicks</td>\n",
       "      <td>Female</td>\n",
       "      <td>Iowa</td>\n",
       "      <td>40</td>\n",
       "      <td>1/1/2017</td>\n",
       "      <td>0</td>\n",
       "      <td>single</td>\n",
       "      <td>42049</td>\n",
       "    </tr>\n",
       "    <tr>\n",
       "      <th>4</th>\n",
       "      <td>130797</td>\n",
       "      <td>Ann</td>\n",
       "      <td>Gilmore</td>\n",
       "      <td>Female</td>\n",
       "      <td>Maryland</td>\n",
       "      <td>26</td>\n",
       "      <td>1/1/2017</td>\n",
       "      <td>1</td>\n",
       "      <td>married</td>\n",
       "      <td>40374</td>\n",
       "    </tr>\n",
       "  </tbody>\n",
       "</table>\n",
       "</div>"
      ],
      "text/plain": [
       "   user_id First Name    Surnam  gender       state  age date_joined  \\\n",
       "0    26711    Deborah  Esquivel  Female    Missouri   48    1/1/2017   \n",
       "1    33890   Patricia      Hart  Female  New Mexico   36    1/1/2017   \n",
       "2    65803    Kenneth    Farley    Male       Idaho   35    1/1/2017   \n",
       "3   125935   Michelle     Hicks  Female        Iowa   40    1/1/2017   \n",
       "4   130797        Ann   Gilmore  Female    Maryland   26    1/1/2017   \n",
       "\n",
       "   number_of_dependants family_status  income  \n",
       "0                     3       married  165665  \n",
       "1                     0        single   59285  \n",
       "2                     2       married   99568  \n",
       "3                     0        single   42049  \n",
       "4                     1       married   40374  "
      ]
     },
     "execution_count": 24,
     "metadata": {},
     "output_type": "execute_result"
    }
   ],
   "source": [
    "df_cust.head()"
   ]
  },
  {
   "cell_type": "code",
   "execution_count": 26,
   "id": "da415717-520f-4805-a699-fce4b2705c1e",
   "metadata": {},
   "outputs": [],
   "source": [
    "# create new dataframe with only relevant cols\n",
    "\n",
    "cust_2 = df_cust[['user_id','gender','state', 'age', 'date_joined', 'number_of_dependants', 'family_status', 'income']]"
   ]
  },
  {
   "cell_type": "code",
   "execution_count": 28,
   "id": "687a28c6-68b6-4850-87ca-65bd6ef85dba",
   "metadata": {},
   "outputs": [
    {
     "data": {
      "text/html": [
       "<div>\n",
       "<style scoped>\n",
       "    .dataframe tbody tr th:only-of-type {\n",
       "        vertical-align: middle;\n",
       "    }\n",
       "\n",
       "    .dataframe tbody tr th {\n",
       "        vertical-align: top;\n",
       "    }\n",
       "\n",
       "    .dataframe thead th {\n",
       "        text-align: right;\n",
       "    }\n",
       "</style>\n",
       "<table border=\"1\" class=\"dataframe\">\n",
       "  <thead>\n",
       "    <tr style=\"text-align: right;\">\n",
       "      <th></th>\n",
       "      <th>user_id</th>\n",
       "      <th>gender</th>\n",
       "      <th>state</th>\n",
       "      <th>age</th>\n",
       "      <th>date_joined</th>\n",
       "      <th>number_of_dependants</th>\n",
       "      <th>family_status</th>\n",
       "      <th>income</th>\n",
       "    </tr>\n",
       "  </thead>\n",
       "  <tbody>\n",
       "    <tr>\n",
       "      <th>0</th>\n",
       "      <td>26711</td>\n",
       "      <td>Female</td>\n",
       "      <td>Missouri</td>\n",
       "      <td>48</td>\n",
       "      <td>1/1/2017</td>\n",
       "      <td>3</td>\n",
       "      <td>married</td>\n",
       "      <td>165665</td>\n",
       "    </tr>\n",
       "    <tr>\n",
       "      <th>1</th>\n",
       "      <td>33890</td>\n",
       "      <td>Female</td>\n",
       "      <td>New Mexico</td>\n",
       "      <td>36</td>\n",
       "      <td>1/1/2017</td>\n",
       "      <td>0</td>\n",
       "      <td>single</td>\n",
       "      <td>59285</td>\n",
       "    </tr>\n",
       "    <tr>\n",
       "      <th>2</th>\n",
       "      <td>65803</td>\n",
       "      <td>Male</td>\n",
       "      <td>Idaho</td>\n",
       "      <td>35</td>\n",
       "      <td>1/1/2017</td>\n",
       "      <td>2</td>\n",
       "      <td>married</td>\n",
       "      <td>99568</td>\n",
       "    </tr>\n",
       "    <tr>\n",
       "      <th>3</th>\n",
       "      <td>125935</td>\n",
       "      <td>Female</td>\n",
       "      <td>Iowa</td>\n",
       "      <td>40</td>\n",
       "      <td>1/1/2017</td>\n",
       "      <td>0</td>\n",
       "      <td>single</td>\n",
       "      <td>42049</td>\n",
       "    </tr>\n",
       "    <tr>\n",
       "      <th>4</th>\n",
       "      <td>130797</td>\n",
       "      <td>Female</td>\n",
       "      <td>Maryland</td>\n",
       "      <td>26</td>\n",
       "      <td>1/1/2017</td>\n",
       "      <td>1</td>\n",
       "      <td>married</td>\n",
       "      <td>40374</td>\n",
       "    </tr>\n",
       "  </tbody>\n",
       "</table>\n",
       "</div>"
      ],
      "text/plain": [
       "   user_id  gender       state  age date_joined  number_of_dependants  \\\n",
       "0    26711  Female    Missouri   48    1/1/2017                     3   \n",
       "1    33890  Female  New Mexico   36    1/1/2017                     0   \n",
       "2    65803    Male       Idaho   35    1/1/2017                     2   \n",
       "3   125935  Female        Iowa   40    1/1/2017                     0   \n",
       "4   130797  Female    Maryland   26    1/1/2017                     1   \n",
       "\n",
       "  family_status  income  \n",
       "0       married  165665  \n",
       "1        single   59285  \n",
       "2       married   99568  \n",
       "3        single   42049  \n",
       "4       married   40374  "
      ]
     },
     "execution_count": 28,
     "metadata": {},
     "output_type": "execute_result"
    }
   ],
   "source": [
    "# check output\n",
    "cust_2.head()"
   ]
  },
  {
   "cell_type": "markdown",
   "id": "78f37604-649c-4fa5-ac9a-67247f64d1bc",
   "metadata": {},
   "source": [
    "### Complete the fundamental data quality and consistency checks you’ve learned throughout this Achievement; for example, check for and address missing values and duplicates, and convert any mixed-type data"
   ]
  },
  {
   "cell_type": "code",
   "execution_count": 31,
   "id": "8fab17b3-9155-408a-b6a9-3988954091dc",
   "metadata": {},
   "outputs": [
    {
     "name": "stderr",
     "output_type": "stream",
     "text": [
      "/var/folders/tx/v4zzzx0x7735_gq8qjd1ddj00000gn/T/ipykernel_76370/918417143.py:4: FutureWarning: DataFrame.applymap has been deprecated. Use DataFrame.map instead.\n",
      "  weird = (cust_2[[col]].applymap(type) != cust_2[[col]].iloc[0].apply(type)).any(axis=1)\n",
      "/var/folders/tx/v4zzzx0x7735_gq8qjd1ddj00000gn/T/ipykernel_76370/918417143.py:4: FutureWarning: DataFrame.applymap has been deprecated. Use DataFrame.map instead.\n",
      "  weird = (cust_2[[col]].applymap(type) != cust_2[[col]].iloc[0].apply(type)).any(axis=1)\n",
      "/var/folders/tx/v4zzzx0x7735_gq8qjd1ddj00000gn/T/ipykernel_76370/918417143.py:4: FutureWarning: DataFrame.applymap has been deprecated. Use DataFrame.map instead.\n",
      "  weird = (cust_2[[col]].applymap(type) != cust_2[[col]].iloc[0].apply(type)).any(axis=1)\n",
      "/var/folders/tx/v4zzzx0x7735_gq8qjd1ddj00000gn/T/ipykernel_76370/918417143.py:4: FutureWarning: DataFrame.applymap has been deprecated. Use DataFrame.map instead.\n",
      "  weird = (cust_2[[col]].applymap(type) != cust_2[[col]].iloc[0].apply(type)).any(axis=1)\n",
      "/var/folders/tx/v4zzzx0x7735_gq8qjd1ddj00000gn/T/ipykernel_76370/918417143.py:4: FutureWarning: DataFrame.applymap has been deprecated. Use DataFrame.map instead.\n",
      "  weird = (cust_2[[col]].applymap(type) != cust_2[[col]].iloc[0].apply(type)).any(axis=1)\n",
      "/var/folders/tx/v4zzzx0x7735_gq8qjd1ddj00000gn/T/ipykernel_76370/918417143.py:4: FutureWarning: DataFrame.applymap has been deprecated. Use DataFrame.map instead.\n",
      "  weird = (cust_2[[col]].applymap(type) != cust_2[[col]].iloc[0].apply(type)).any(axis=1)\n",
      "/var/folders/tx/v4zzzx0x7735_gq8qjd1ddj00000gn/T/ipykernel_76370/918417143.py:4: FutureWarning: DataFrame.applymap has been deprecated. Use DataFrame.map instead.\n",
      "  weird = (cust_2[[col]].applymap(type) != cust_2[[col]].iloc[0].apply(type)).any(axis=1)\n",
      "/var/folders/tx/v4zzzx0x7735_gq8qjd1ddj00000gn/T/ipykernel_76370/918417143.py:4: FutureWarning: DataFrame.applymap has been deprecated. Use DataFrame.map instead.\n",
      "  weird = (cust_2[[col]].applymap(type) != cust_2[[col]].iloc[0].apply(type)).any(axis=1)\n"
     ]
    }
   ],
   "source": [
    "# Check for mixed data types\n",
    "\n",
    "for col in cust_2.columns.tolist():\n",
    "    weird = (cust_2[[col]].applymap(type) != cust_2[[col]].iloc[0].apply(type)).any(axis=1)\n",
    "    if len (cust_2[weird]) > 0:\n",
    "        print (col)"
   ]
  },
  {
   "cell_type": "markdown",
   "id": "ca23c1d5-46b7-44d0-a08e-b2bd8678905d",
   "metadata": {},
   "source": [
    "There are no mixed data types."
   ]
  },
  {
   "cell_type": "code",
   "execution_count": 34,
   "id": "19324ab2-d6cd-4167-b3b2-f201036a4fde",
   "metadata": {},
   "outputs": [
    {
     "data": {
      "text/plain": [
       "user_id                  int64\n",
       "gender                  object\n",
       "state                   object\n",
       "age                      int64\n",
       "date_joined             object\n",
       "number_of_dependants     int64\n",
       "family_status           object\n",
       "income                   int64\n",
       "dtype: object"
      ]
     },
     "execution_count": 34,
     "metadata": {},
     "output_type": "execute_result"
    }
   ],
   "source": [
    "cust_2.dtypes"
   ]
  },
  {
   "cell_type": "code",
   "execution_count": 36,
   "id": "f9151861-871a-4f60-a4ab-36d4d3667de2",
   "metadata": {},
   "outputs": [
    {
     "name": "stderr",
     "output_type": "stream",
     "text": [
      "/var/folders/tx/v4zzzx0x7735_gq8qjd1ddj00000gn/T/ipykernel_76370/2034871165.py:1: SettingWithCopyWarning: \n",
      "A value is trying to be set on a copy of a slice from a DataFrame.\n",
      "Try using .loc[row_indexer,col_indexer] = value instead\n",
      "\n",
      "See the caveats in the documentation: https://pandas.pydata.org/pandas-docs/stable/user_guide/indexing.html#returning-a-view-versus-a-copy\n",
      "  cust_2['user_id'] = cust_2['user_id'].astype(str)\n"
     ]
    }
   ],
   "source": [
    "# Chanbge user_id to string\n",
    "cust_2['user_id'] = cust_2['user_id'].astype(str)"
   ]
  },
  {
   "cell_type": "code",
   "execution_count": 38,
   "id": "17d07dc3-bf70-4311-b9e6-24be612c1b9e",
   "metadata": {},
   "outputs": [
    {
     "data": {
      "text/plain": [
       "user_id                 object\n",
       "gender                  object\n",
       "state                   object\n",
       "age                      int64\n",
       "date_joined             object\n",
       "number_of_dependants     int64\n",
       "family_status           object\n",
       "income                   int64\n",
       "dtype: object"
      ]
     },
     "execution_count": 38,
     "metadata": {},
     "output_type": "execute_result"
    }
   ],
   "source": [
    "cust_2.dtypes"
   ]
  },
  {
   "cell_type": "code",
   "execution_count": 40,
   "id": "53e438eb-f9d5-4c65-834e-91609efb58be",
   "metadata": {},
   "outputs": [
    {
     "data": {
      "text/plain": [
       "user_id                 0\n",
       "gender                  0\n",
       "state                   0\n",
       "age                     0\n",
       "date_joined             0\n",
       "number_of_dependants    0\n",
       "family_status           0\n",
       "income                  0\n",
       "dtype: int64"
      ]
     },
     "execution_count": 40,
     "metadata": {},
     "output_type": "execute_result"
    }
   ],
   "source": [
    "# Check for missing values\n",
    "\n",
    "cust_2.isnull().sum()"
   ]
  },
  {
   "cell_type": "markdown",
   "id": "52dce4d0-d750-4f77-98d4-e43a40cbdb51",
   "metadata": {},
   "source": [
    "There are no missing values."
   ]
  },
  {
   "cell_type": "code",
   "execution_count": 43,
   "id": "dcc94feb-3354-47fd-b136-21939bffecc6",
   "metadata": {},
   "outputs": [],
   "source": [
    "# Check for duplicate values\n",
    "\n",
    "cust_2_dups = cust_2[cust_2.duplicated()]"
   ]
  },
  {
   "cell_type": "code",
   "execution_count": 45,
   "id": "d6b175bb-48f9-46b5-972e-f9aec20a0038",
   "metadata": {},
   "outputs": [
    {
     "data": {
      "text/html": [
       "<div>\n",
       "<style scoped>\n",
       "    .dataframe tbody tr th:only-of-type {\n",
       "        vertical-align: middle;\n",
       "    }\n",
       "\n",
       "    .dataframe tbody tr th {\n",
       "        vertical-align: top;\n",
       "    }\n",
       "\n",
       "    .dataframe thead th {\n",
       "        text-align: right;\n",
       "    }\n",
       "</style>\n",
       "<table border=\"1\" class=\"dataframe\">\n",
       "  <thead>\n",
       "    <tr style=\"text-align: right;\">\n",
       "      <th></th>\n",
       "      <th>user_id</th>\n",
       "      <th>gender</th>\n",
       "      <th>state</th>\n",
       "      <th>age</th>\n",
       "      <th>date_joined</th>\n",
       "      <th>number_of_dependants</th>\n",
       "      <th>family_status</th>\n",
       "      <th>income</th>\n",
       "    </tr>\n",
       "  </thead>\n",
       "  <tbody>\n",
       "  </tbody>\n",
       "</table>\n",
       "</div>"
      ],
      "text/plain": [
       "Empty DataFrame\n",
       "Columns: [user_id, gender, state, age, date_joined, number_of_dependants, family_status, income]\n",
       "Index: []"
      ]
     },
     "execution_count": 45,
     "metadata": {},
     "output_type": "execute_result"
    }
   ],
   "source": [
    "cust_2_dups"
   ]
  },
  {
   "cell_type": "markdown",
   "id": "cd210ace-3f82-4710-b22d-f86109f71948",
   "metadata": {},
   "source": [
    "There are no duplicate values."
   ]
  },
  {
   "cell_type": "markdown",
   "id": "a2de9c84-cbfb-4875-ae11-22e2841e723f",
   "metadata": {},
   "source": [
    "### Combine your customer data with the rest of your prepared Instacart data."
   ]
  },
  {
   "cell_type": "code",
   "execution_count": 51,
   "id": "d5915e17-9aeb-44c5-9223-c1342a8eb690",
   "metadata": {},
   "outputs": [],
   "source": [
    "# Import lastest ords_prods dataset to merge with cust\n",
    "\n",
    "df_ords_prods= pd.read_pickle(os.path.join(path,'02 Data','Prepared Data', 'aggregated_ords_prods_merge.pkl'))"
   ]
  },
  {
   "cell_type": "code",
   "execution_count": 53,
   "id": "69398caf-7b30-48c7-8e12-8e7d3cc3d58d",
   "metadata": {},
   "outputs": [
    {
     "data": {
      "text/html": [
       "<div>\n",
       "<style scoped>\n",
       "    .dataframe tbody tr th:only-of-type {\n",
       "        vertical-align: middle;\n",
       "    }\n",
       "\n",
       "    .dataframe tbody tr th {\n",
       "        vertical-align: top;\n",
       "    }\n",
       "\n",
       "    .dataframe thead th {\n",
       "        text-align: right;\n",
       "    }\n",
       "</style>\n",
       "<table border=\"1\" class=\"dataframe\">\n",
       "  <thead>\n",
       "    <tr style=\"text-align: right;\">\n",
       "      <th></th>\n",
       "      <th>order_id</th>\n",
       "      <th>user_id</th>\n",
       "      <th>number_of_orders</th>\n",
       "      <th>order_day_of_week</th>\n",
       "      <th>order_hour_of_day</th>\n",
       "      <th>days_since_prior_order</th>\n",
       "      <th>product_id</th>\n",
       "      <th>add_to_cart_order</th>\n",
       "      <th>reordered</th>\n",
       "      <th>product_name</th>\n",
       "      <th>...</th>\n",
       "      <th>price_range</th>\n",
       "      <th>busiest_day</th>\n",
       "      <th>busiest_days</th>\n",
       "      <th>busiest_period_of_day</th>\n",
       "      <th>max_order</th>\n",
       "      <th>loyalty_flag</th>\n",
       "      <th>avg_spend</th>\n",
       "      <th>spender_flag</th>\n",
       "      <th>customer_frequency</th>\n",
       "      <th>frequency_flag</th>\n",
       "    </tr>\n",
       "  </thead>\n",
       "  <tbody>\n",
       "    <tr>\n",
       "      <th>0</th>\n",
       "      <td>2539329</td>\n",
       "      <td>1</td>\n",
       "      <td>1</td>\n",
       "      <td>2</td>\n",
       "      <td>8</td>\n",
       "      <td>NaN</td>\n",
       "      <td>196</td>\n",
       "      <td>1</td>\n",
       "      <td>0</td>\n",
       "      <td>Soda</td>\n",
       "      <td>...</td>\n",
       "      <td>Mid range product</td>\n",
       "      <td>Regularly busy</td>\n",
       "      <td>Regularly busy</td>\n",
       "      <td>Average orders</td>\n",
       "      <td>10</td>\n",
       "      <td>New customer</td>\n",
       "      <td>6.367797</td>\n",
       "      <td>Low_spender</td>\n",
       "      <td>20.5</td>\n",
       "      <td>Non-frequent Customer</td>\n",
       "    </tr>\n",
       "    <tr>\n",
       "      <th>1</th>\n",
       "      <td>2398795</td>\n",
       "      <td>1</td>\n",
       "      <td>2</td>\n",
       "      <td>3</td>\n",
       "      <td>7</td>\n",
       "      <td>15.0</td>\n",
       "      <td>196</td>\n",
       "      <td>1</td>\n",
       "      <td>1</td>\n",
       "      <td>Soda</td>\n",
       "      <td>...</td>\n",
       "      <td>Mid range product</td>\n",
       "      <td>Regularly busy</td>\n",
       "      <td>Slowest days</td>\n",
       "      <td>Average orders</td>\n",
       "      <td>10</td>\n",
       "      <td>New customer</td>\n",
       "      <td>6.367797</td>\n",
       "      <td>Low_spender</td>\n",
       "      <td>20.5</td>\n",
       "      <td>Non-frequent Customer</td>\n",
       "    </tr>\n",
       "    <tr>\n",
       "      <th>2</th>\n",
       "      <td>473747</td>\n",
       "      <td>1</td>\n",
       "      <td>3</td>\n",
       "      <td>3</td>\n",
       "      <td>12</td>\n",
       "      <td>21.0</td>\n",
       "      <td>196</td>\n",
       "      <td>1</td>\n",
       "      <td>1</td>\n",
       "      <td>Soda</td>\n",
       "      <td>...</td>\n",
       "      <td>Mid range product</td>\n",
       "      <td>Regularly busy</td>\n",
       "      <td>Slowest days</td>\n",
       "      <td>Average orders</td>\n",
       "      <td>10</td>\n",
       "      <td>New customer</td>\n",
       "      <td>6.367797</td>\n",
       "      <td>Low_spender</td>\n",
       "      <td>20.5</td>\n",
       "      <td>Non-frequent Customer</td>\n",
       "    </tr>\n",
       "    <tr>\n",
       "      <th>3</th>\n",
       "      <td>2254736</td>\n",
       "      <td>1</td>\n",
       "      <td>4</td>\n",
       "      <td>4</td>\n",
       "      <td>7</td>\n",
       "      <td>29.0</td>\n",
       "      <td>196</td>\n",
       "      <td>1</td>\n",
       "      <td>1</td>\n",
       "      <td>Soda</td>\n",
       "      <td>...</td>\n",
       "      <td>Mid range product</td>\n",
       "      <td>Least busy</td>\n",
       "      <td>Slowest days</td>\n",
       "      <td>Average orders</td>\n",
       "      <td>10</td>\n",
       "      <td>New customer</td>\n",
       "      <td>6.367797</td>\n",
       "      <td>Low_spender</td>\n",
       "      <td>20.5</td>\n",
       "      <td>Non-frequent Customer</td>\n",
       "    </tr>\n",
       "    <tr>\n",
       "      <th>4</th>\n",
       "      <td>431534</td>\n",
       "      <td>1</td>\n",
       "      <td>5</td>\n",
       "      <td>4</td>\n",
       "      <td>15</td>\n",
       "      <td>28.0</td>\n",
       "      <td>196</td>\n",
       "      <td>1</td>\n",
       "      <td>1</td>\n",
       "      <td>Soda</td>\n",
       "      <td>...</td>\n",
       "      <td>Mid range product</td>\n",
       "      <td>Least busy</td>\n",
       "      <td>Slowest days</td>\n",
       "      <td>Most orders</td>\n",
       "      <td>10</td>\n",
       "      <td>New customer</td>\n",
       "      <td>6.367797</td>\n",
       "      <td>Low_spender</td>\n",
       "      <td>20.5</td>\n",
       "      <td>Non-frequent Customer</td>\n",
       "    </tr>\n",
       "  </tbody>\n",
       "</table>\n",
       "<p>5 rows × 23 columns</p>\n",
       "</div>"
      ],
      "text/plain": [
       "   order_id  user_id  number_of_orders  order_day_of_week  order_hour_of_day  \\\n",
       "0   2539329        1                 1                  2                  8   \n",
       "1   2398795        1                 2                  3                  7   \n",
       "2    473747        1                 3                  3                 12   \n",
       "3   2254736        1                 4                  4                  7   \n",
       "4    431534        1                 5                  4                 15   \n",
       "\n",
       "   days_since_prior_order  product_id  add_to_cart_order  reordered  \\\n",
       "0                     NaN         196                  1          0   \n",
       "1                    15.0         196                  1          1   \n",
       "2                    21.0         196                  1          1   \n",
       "3                    29.0         196                  1          1   \n",
       "4                    28.0         196                  1          1   \n",
       "\n",
       "  product_name  ...        price_range     busiest_day    busiest_days  \\\n",
       "0         Soda  ...  Mid range product  Regularly busy  Regularly busy   \n",
       "1         Soda  ...  Mid range product  Regularly busy    Slowest days   \n",
       "2         Soda  ...  Mid range product  Regularly busy    Slowest days   \n",
       "3         Soda  ...  Mid range product      Least busy    Slowest days   \n",
       "4         Soda  ...  Mid range product      Least busy    Slowest days   \n",
       "\n",
       "  busiest_period_of_day max_order  loyalty_flag avg_spend  spender_flag  \\\n",
       "0        Average orders        10  New customer  6.367797   Low_spender   \n",
       "1        Average orders        10  New customer  6.367797   Low_spender   \n",
       "2        Average orders        10  New customer  6.367797   Low_spender   \n",
       "3        Average orders        10  New customer  6.367797   Low_spender   \n",
       "4           Most orders        10  New customer  6.367797   Low_spender   \n",
       "\n",
       "  customer_frequency         frequency_flag  \n",
       "0               20.5  Non-frequent Customer  \n",
       "1               20.5  Non-frequent Customer  \n",
       "2               20.5  Non-frequent Customer  \n",
       "3               20.5  Non-frequent Customer  \n",
       "4               20.5  Non-frequent Customer  \n",
       "\n",
       "[5 rows x 23 columns]"
      ]
     },
     "execution_count": 53,
     "metadata": {},
     "output_type": "execute_result"
    }
   ],
   "source": [
    "df_ords_prods.head()"
   ]
  },
  {
   "cell_type": "code",
   "execution_count": 55,
   "id": "06b26688-589a-4a4b-8f3a-aadf89af1ea0",
   "metadata": {},
   "outputs": [],
   "source": [
    "# Expand to show all columns and rows\n",
    "\n",
    "pd.set_option('display.max_columns', None)\n",
    "pd.set_option('display.max_rows', None)"
   ]
  },
  {
   "cell_type": "code",
   "execution_count": 57,
   "id": "98a2135d-06dd-494c-8138-9ae3308ae3be",
   "metadata": {},
   "outputs": [
    {
     "data": {
      "text/html": [
       "<div>\n",
       "<style scoped>\n",
       "    .dataframe tbody tr th:only-of-type {\n",
       "        vertical-align: middle;\n",
       "    }\n",
       "\n",
       "    .dataframe tbody tr th {\n",
       "        vertical-align: top;\n",
       "    }\n",
       "\n",
       "    .dataframe thead th {\n",
       "        text-align: right;\n",
       "    }\n",
       "</style>\n",
       "<table border=\"1\" class=\"dataframe\">\n",
       "  <thead>\n",
       "    <tr style=\"text-align: right;\">\n",
       "      <th></th>\n",
       "      <th>order_id</th>\n",
       "      <th>user_id</th>\n",
       "      <th>number_of_orders</th>\n",
       "      <th>order_day_of_week</th>\n",
       "      <th>order_hour_of_day</th>\n",
       "      <th>days_since_prior_order</th>\n",
       "      <th>product_id</th>\n",
       "      <th>add_to_cart_order</th>\n",
       "      <th>reordered</th>\n",
       "      <th>product_name</th>\n",
       "      <th>aisle_id</th>\n",
       "      <th>department_id</th>\n",
       "      <th>prices</th>\n",
       "      <th>price_range</th>\n",
       "      <th>busiest_day</th>\n",
       "      <th>busiest_days</th>\n",
       "      <th>busiest_period_of_day</th>\n",
       "      <th>max_order</th>\n",
       "      <th>loyalty_flag</th>\n",
       "      <th>avg_spend</th>\n",
       "      <th>spender_flag</th>\n",
       "      <th>customer_frequency</th>\n",
       "      <th>frequency_flag</th>\n",
       "    </tr>\n",
       "  </thead>\n",
       "  <tbody>\n",
       "    <tr>\n",
       "      <th>0</th>\n",
       "      <td>2539329</td>\n",
       "      <td>1</td>\n",
       "      <td>1</td>\n",
       "      <td>2</td>\n",
       "      <td>8</td>\n",
       "      <td>NaN</td>\n",
       "      <td>196</td>\n",
       "      <td>1</td>\n",
       "      <td>0</td>\n",
       "      <td>Soda</td>\n",
       "      <td>77</td>\n",
       "      <td>7</td>\n",
       "      <td>9.0</td>\n",
       "      <td>Mid range product</td>\n",
       "      <td>Regularly busy</td>\n",
       "      <td>Regularly busy</td>\n",
       "      <td>Average orders</td>\n",
       "      <td>10</td>\n",
       "      <td>New customer</td>\n",
       "      <td>6.367797</td>\n",
       "      <td>Low_spender</td>\n",
       "      <td>20.5</td>\n",
       "      <td>Non-frequent Customer</td>\n",
       "    </tr>\n",
       "    <tr>\n",
       "      <th>1</th>\n",
       "      <td>2398795</td>\n",
       "      <td>1</td>\n",
       "      <td>2</td>\n",
       "      <td>3</td>\n",
       "      <td>7</td>\n",
       "      <td>15.0</td>\n",
       "      <td>196</td>\n",
       "      <td>1</td>\n",
       "      <td>1</td>\n",
       "      <td>Soda</td>\n",
       "      <td>77</td>\n",
       "      <td>7</td>\n",
       "      <td>9.0</td>\n",
       "      <td>Mid range product</td>\n",
       "      <td>Regularly busy</td>\n",
       "      <td>Slowest days</td>\n",
       "      <td>Average orders</td>\n",
       "      <td>10</td>\n",
       "      <td>New customer</td>\n",
       "      <td>6.367797</td>\n",
       "      <td>Low_spender</td>\n",
       "      <td>20.5</td>\n",
       "      <td>Non-frequent Customer</td>\n",
       "    </tr>\n",
       "    <tr>\n",
       "      <th>2</th>\n",
       "      <td>473747</td>\n",
       "      <td>1</td>\n",
       "      <td>3</td>\n",
       "      <td>3</td>\n",
       "      <td>12</td>\n",
       "      <td>21.0</td>\n",
       "      <td>196</td>\n",
       "      <td>1</td>\n",
       "      <td>1</td>\n",
       "      <td>Soda</td>\n",
       "      <td>77</td>\n",
       "      <td>7</td>\n",
       "      <td>9.0</td>\n",
       "      <td>Mid range product</td>\n",
       "      <td>Regularly busy</td>\n",
       "      <td>Slowest days</td>\n",
       "      <td>Average orders</td>\n",
       "      <td>10</td>\n",
       "      <td>New customer</td>\n",
       "      <td>6.367797</td>\n",
       "      <td>Low_spender</td>\n",
       "      <td>20.5</td>\n",
       "      <td>Non-frequent Customer</td>\n",
       "    </tr>\n",
       "    <tr>\n",
       "      <th>3</th>\n",
       "      <td>2254736</td>\n",
       "      <td>1</td>\n",
       "      <td>4</td>\n",
       "      <td>4</td>\n",
       "      <td>7</td>\n",
       "      <td>29.0</td>\n",
       "      <td>196</td>\n",
       "      <td>1</td>\n",
       "      <td>1</td>\n",
       "      <td>Soda</td>\n",
       "      <td>77</td>\n",
       "      <td>7</td>\n",
       "      <td>9.0</td>\n",
       "      <td>Mid range product</td>\n",
       "      <td>Least busy</td>\n",
       "      <td>Slowest days</td>\n",
       "      <td>Average orders</td>\n",
       "      <td>10</td>\n",
       "      <td>New customer</td>\n",
       "      <td>6.367797</td>\n",
       "      <td>Low_spender</td>\n",
       "      <td>20.5</td>\n",
       "      <td>Non-frequent Customer</td>\n",
       "    </tr>\n",
       "    <tr>\n",
       "      <th>4</th>\n",
       "      <td>431534</td>\n",
       "      <td>1</td>\n",
       "      <td>5</td>\n",
       "      <td>4</td>\n",
       "      <td>15</td>\n",
       "      <td>28.0</td>\n",
       "      <td>196</td>\n",
       "      <td>1</td>\n",
       "      <td>1</td>\n",
       "      <td>Soda</td>\n",
       "      <td>77</td>\n",
       "      <td>7</td>\n",
       "      <td>9.0</td>\n",
       "      <td>Mid range product</td>\n",
       "      <td>Least busy</td>\n",
       "      <td>Slowest days</td>\n",
       "      <td>Most orders</td>\n",
       "      <td>10</td>\n",
       "      <td>New customer</td>\n",
       "      <td>6.367797</td>\n",
       "      <td>Low_spender</td>\n",
       "      <td>20.5</td>\n",
       "      <td>Non-frequent Customer</td>\n",
       "    </tr>\n",
       "  </tbody>\n",
       "</table>\n",
       "</div>"
      ],
      "text/plain": [
       "   order_id  user_id  number_of_orders  order_day_of_week  order_hour_of_day  \\\n",
       "0   2539329        1                 1                  2                  8   \n",
       "1   2398795        1                 2                  3                  7   \n",
       "2    473747        1                 3                  3                 12   \n",
       "3   2254736        1                 4                  4                  7   \n",
       "4    431534        1                 5                  4                 15   \n",
       "\n",
       "   days_since_prior_order  product_id  add_to_cart_order  reordered  \\\n",
       "0                     NaN         196                  1          0   \n",
       "1                    15.0         196                  1          1   \n",
       "2                    21.0         196                  1          1   \n",
       "3                    29.0         196                  1          1   \n",
       "4                    28.0         196                  1          1   \n",
       "\n",
       "  product_name  aisle_id  department_id  prices        price_range  \\\n",
       "0         Soda        77              7     9.0  Mid range product   \n",
       "1         Soda        77              7     9.0  Mid range product   \n",
       "2         Soda        77              7     9.0  Mid range product   \n",
       "3         Soda        77              7     9.0  Mid range product   \n",
       "4         Soda        77              7     9.0  Mid range product   \n",
       "\n",
       "      busiest_day    busiest_days busiest_period_of_day  max_order  \\\n",
       "0  Regularly busy  Regularly busy        Average orders         10   \n",
       "1  Regularly busy    Slowest days        Average orders         10   \n",
       "2  Regularly busy    Slowest days        Average orders         10   \n",
       "3      Least busy    Slowest days        Average orders         10   \n",
       "4      Least busy    Slowest days           Most orders         10   \n",
       "\n",
       "   loyalty_flag  avg_spend spender_flag  customer_frequency  \\\n",
       "0  New customer   6.367797  Low_spender                20.5   \n",
       "1  New customer   6.367797  Low_spender                20.5   \n",
       "2  New customer   6.367797  Low_spender                20.5   \n",
       "3  New customer   6.367797  Low_spender                20.5   \n",
       "4  New customer   6.367797  Low_spender                20.5   \n",
       "\n",
       "          frequency_flag  \n",
       "0  Non-frequent Customer  \n",
       "1  Non-frequent Customer  \n",
       "2  Non-frequent Customer  \n",
       "3  Non-frequent Customer  \n",
       "4  Non-frequent Customer  "
      ]
     },
     "execution_count": 57,
     "metadata": {},
     "output_type": "execute_result"
    }
   ],
   "source": [
    "df_ords_prods.head()"
   ]
  },
  {
   "cell_type": "code",
   "execution_count": 61,
   "id": "b8cb9c1b-db07-48d2-a2b7-5d6e5d2c59a8",
   "metadata": {},
   "outputs": [
    {
     "data": {
      "text/plain": [
       "(206209, 8)"
      ]
     },
     "execution_count": 61,
     "metadata": {},
     "output_type": "execute_result"
    }
   ],
   "source": [
    "cust_2.shape"
   ]
  },
  {
   "cell_type": "code",
   "execution_count": 63,
   "id": "ae11629d-3d36-49e3-ae9d-eea315a2e329",
   "metadata": {},
   "outputs": [],
   "source": [
    "nan_values = cust_2[cust_2.isna().any(axis=1)]"
   ]
  },
  {
   "cell_type": "code",
   "execution_count": 65,
   "id": "9ca27e87-1631-4f65-bbbc-c283e9f9550e",
   "metadata": {},
   "outputs": [
    {
     "data": {
      "text/html": [
       "<div>\n",
       "<style scoped>\n",
       "    .dataframe tbody tr th:only-of-type {\n",
       "        vertical-align: middle;\n",
       "    }\n",
       "\n",
       "    .dataframe tbody tr th {\n",
       "        vertical-align: top;\n",
       "    }\n",
       "\n",
       "    .dataframe thead th {\n",
       "        text-align: right;\n",
       "    }\n",
       "</style>\n",
       "<table border=\"1\" class=\"dataframe\">\n",
       "  <thead>\n",
       "    <tr style=\"text-align: right;\">\n",
       "      <th></th>\n",
       "      <th>user_id</th>\n",
       "      <th>gender</th>\n",
       "      <th>state</th>\n",
       "      <th>age</th>\n",
       "      <th>date_joined</th>\n",
       "      <th>number_of_dependants</th>\n",
       "      <th>family_status</th>\n",
       "      <th>income</th>\n",
       "    </tr>\n",
       "  </thead>\n",
       "  <tbody>\n",
       "  </tbody>\n",
       "</table>\n",
       "</div>"
      ],
      "text/plain": [
       "Empty DataFrame\n",
       "Columns: [user_id, gender, state, age, date_joined, number_of_dependants, family_status, income]\n",
       "Index: []"
      ]
     },
     "execution_count": 65,
     "metadata": {},
     "output_type": "execute_result"
    }
   ],
   "source": [
    "nan_values"
   ]
  },
  {
   "cell_type": "code",
   "execution_count": 71,
   "id": "2f4f5ff2-283e-4dbf-b017-352759389aaf",
   "metadata": {},
   "outputs": [
    {
     "data": {
      "text/plain": [
       "order_id                    int64\n",
       "user_id                     int64\n",
       "number_of_orders            int64\n",
       "order_day_of_week           int64\n",
       "order_hour_of_day           int64\n",
       "days_since_prior_order    float64\n",
       "product_id                  int64\n",
       "add_to_cart_order           int64\n",
       "reordered                   int64\n",
       "product_name               object\n",
       "aisle_id                    int64\n",
       "department_id               int64\n",
       "prices                    float64\n",
       "price_range                object\n",
       "busiest_day                object\n",
       "busiest_days               object\n",
       "busiest_period_of_day      object\n",
       "max_order                   int64\n",
       "loyalty_flag               object\n",
       "avg_spend                 float64\n",
       "spender_flag               object\n",
       "customer_frequency        float64\n",
       "frequency_flag             object\n",
       "dtype: object"
      ]
     },
     "execution_count": 71,
     "metadata": {},
     "output_type": "execute_result"
    }
   ],
   "source": [
    "df_ords_prods.dtypes"
   ]
  },
  {
   "cell_type": "code",
   "execution_count": 73,
   "id": "81c092b6-6160-4fcc-bc68-b94f8d12b1b8",
   "metadata": {},
   "outputs": [],
   "source": [
    "df_ords_prods['user_id'] = df_ords_prods['user_id'].astype(str)"
   ]
  },
  {
   "cell_type": "code",
   "execution_count": 75,
   "id": "393eb73b-5ff9-4574-9f43-81a158e55cad",
   "metadata": {},
   "outputs": [],
   "source": [
    "df_ords_prods['order_id'] = df_ords_prods['order_id'].astype(str)"
   ]
  },
  {
   "cell_type": "code",
   "execution_count": 77,
   "id": "483069c8-5e91-47ef-9e82-f85e8b63996f",
   "metadata": {},
   "outputs": [],
   "source": [
    "# merge datasets\n",
    "\n",
    "cust_ords_prods = cust_2.merge(df_ords_prods,on='user_id',indicator=True)"
   ]
  },
  {
   "cell_type": "code",
   "execution_count": 81,
   "id": "6e1b7fc3-eb60-45e0-91ff-9516841f7f39",
   "metadata": {},
   "outputs": [],
   "source": [
    "# Export data to pkl\n",
    "\n",
    "cust_ords_prods.to_pickle(os.path.join(path, '02 Data','Prepared Data', 'cust_ords_prods.pkl'))"
   ]
  },
  {
   "cell_type": "code",
   "execution_count": null,
   "id": "cb7db89c-df05-4c41-89a4-81a770effd32",
   "metadata": {},
   "outputs": [],
   "source": []
  }
 ],
 "metadata": {
  "kernelspec": {
   "display_name": "Python 3 (ipykernel)",
   "language": "python",
   "name": "python3"
  },
  "language_info": {
   "codemirror_mode": {
    "name": "ipython",
    "version": 3
   },
   "file_extension": ".py",
   "mimetype": "text/x-python",
   "name": "python",
   "nbconvert_exporter": "python",
   "pygments_lexer": "ipython3",
   "version": "3.11.7"
  }
 },
 "nbformat": 4,
 "nbformat_minor": 5
}
