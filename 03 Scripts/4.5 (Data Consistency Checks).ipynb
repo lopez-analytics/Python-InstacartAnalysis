{
 "cells": [
  {
   "cell_type": "markdown",
   "id": "6ea213be-1b0c-421e-88f0-0c8c9bad759e",
   "metadata": {},
   "source": [
    "## 01. Import libraries"
   ]
  },
  {
   "cell_type": "code",
   "execution_count": 2,
   "id": "69ad10f1-ab58-41d8-bc84-c9e964d96277",
   "metadata": {},
   "outputs": [],
   "source": [
    "# Import Libraries\n",
    "import pandas as pd\n",
    "import numpy as np\n",
    "import os"
   ]
  },
  {
   "cell_type": "code",
   "execution_count": 3,
   "id": "f5c6cd6f-5041-45dd-9f3c-4f1dde8c9458",
   "metadata": {},
   "outputs": [],
   "source": [
    "# Turn Project Folder into Path\n",
    "path = r'/Users/tanayawinder/Desktop/6-27-2024 Instant Cart Basket Analysis'"
   ]
  },
  {
   "cell_type": "code",
   "execution_count": 4,
   "id": "356e33bb-645f-445b-ad2b-52e410b300f9",
   "metadata": {},
   "outputs": [
    {
     "data": {
      "text/plain": [
       "'/Users/tanayawinder/Desktop/6-27-2024 Instant Cart Basket Analysis'"
      ]
     },
     "execution_count": 4,
     "metadata": {},
     "output_type": "execute_result"
    }
   ],
   "source": [
    "# Check output\n",
    "path"
   ]
  },
  {
   "cell_type": "code",
   "execution_count": 5,
   "id": "bc4c08c5-750f-406f-b43d-f4330aaae6e6",
   "metadata": {},
   "outputs": [],
   "source": [
    "# Import orders.csv (Original Data) via OS library\n",
    "orders = pd.read_csv(os.path.join(path,'02 Data','Prepared Data', 'orders_wrangled.csv'),index_col = False)"
   ]
  },
  {
   "cell_type": "code",
   "execution_count": 6,
   "id": "42040258-db0f-4ceb-810b-1329ac65e2e2",
   "metadata": {},
   "outputs": [],
   "source": [
    "# Import products.csv (Original Data) via OS library\n",
    "departments = pd.read_csv(os.path.join(path,'02 Data','Prepared Data', 'deparments_wrangled.csv'))"
   ]
  },
  {
   "cell_type": "code",
   "execution_count": 7,
   "id": "eb740026-1aaa-4671-8bdc-0291fe6906e7",
   "metadata": {},
   "outputs": [],
   "source": [
    "# Import products.csv (Original Data) via OS library\n",
    "products = pd.read_csv(os.path.join(path,'02 Data','Original Data', 'products.csv'))"
   ]
  },
  {
   "cell_type": "markdown",
   "id": "bdf0930b-6fd7-441e-a0f1-1a243e84d7c7",
   "metadata": {},
   "source": [
    "## 02. Data Consistency Checks"
   ]
  },
  {
   "cell_type": "markdown",
   "id": "76c26eff-2b0d-401d-9851-aee72c173b49",
   "metadata": {},
   "source": [
    "### Finding Missing Values"
   ]
  },
  {
   "cell_type": "code",
   "execution_count": 10,
   "id": "754864e2-ef5a-41d5-a0ef-e03de0fb670e",
   "metadata": {},
   "outputs": [
    {
     "data": {
      "text/plain": [
       "product_id        0\n",
       "product_name     16\n",
       "aisle_id          0\n",
       "department_id     0\n",
       "prices            0\n",
       "dtype: int64"
      ]
     },
     "execution_count": 10,
     "metadata": {},
     "output_type": "execute_result"
    }
   ],
   "source": [
    "products.isnull().sum()"
   ]
  },
  {
   "cell_type": "code",
   "execution_count": 11,
   "id": "218871e0-d5c1-4eec-93b5-d9d52592b904",
   "metadata": {},
   "outputs": [],
   "source": [
    "# Examine missing values\n",
    "df_nan = products[products['product_name'].isnull() == True]"
   ]
  },
  {
   "cell_type": "code",
   "execution_count": 12,
   "id": "1fc06f2a-b001-4f4e-847a-1cf47ab17122",
   "metadata": {},
   "outputs": [
    {
     "data": {
      "text/html": [
       "<div>\n",
       "<style scoped>\n",
       "    .dataframe tbody tr th:only-of-type {\n",
       "        vertical-align: middle;\n",
       "    }\n",
       "\n",
       "    .dataframe tbody tr th {\n",
       "        vertical-align: top;\n",
       "    }\n",
       "\n",
       "    .dataframe thead th {\n",
       "        text-align: right;\n",
       "    }\n",
       "</style>\n",
       "<table border=\"1\" class=\"dataframe\">\n",
       "  <thead>\n",
       "    <tr style=\"text-align: right;\">\n",
       "      <th></th>\n",
       "      <th>product_id</th>\n",
       "      <th>product_name</th>\n",
       "      <th>aisle_id</th>\n",
       "      <th>department_id</th>\n",
       "      <th>prices</th>\n",
       "    </tr>\n",
       "  </thead>\n",
       "  <tbody>\n",
       "    <tr>\n",
       "      <th>33</th>\n",
       "      <td>34</td>\n",
       "      <td>NaN</td>\n",
       "      <td>121</td>\n",
       "      <td>14</td>\n",
       "      <td>12.2</td>\n",
       "    </tr>\n",
       "    <tr>\n",
       "      <th>68</th>\n",
       "      <td>69</td>\n",
       "      <td>NaN</td>\n",
       "      <td>26</td>\n",
       "      <td>7</td>\n",
       "      <td>11.8</td>\n",
       "    </tr>\n",
       "    <tr>\n",
       "      <th>115</th>\n",
       "      <td>116</td>\n",
       "      <td>NaN</td>\n",
       "      <td>93</td>\n",
       "      <td>3</td>\n",
       "      <td>10.8</td>\n",
       "    </tr>\n",
       "    <tr>\n",
       "      <th>261</th>\n",
       "      <td>262</td>\n",
       "      <td>NaN</td>\n",
       "      <td>110</td>\n",
       "      <td>13</td>\n",
       "      <td>12.1</td>\n",
       "    </tr>\n",
       "    <tr>\n",
       "      <th>525</th>\n",
       "      <td>525</td>\n",
       "      <td>NaN</td>\n",
       "      <td>109</td>\n",
       "      <td>11</td>\n",
       "      <td>1.2</td>\n",
       "    </tr>\n",
       "    <tr>\n",
       "      <th>1511</th>\n",
       "      <td>1511</td>\n",
       "      <td>NaN</td>\n",
       "      <td>84</td>\n",
       "      <td>16</td>\n",
       "      <td>14.3</td>\n",
       "    </tr>\n",
       "    <tr>\n",
       "      <th>1780</th>\n",
       "      <td>1780</td>\n",
       "      <td>NaN</td>\n",
       "      <td>126</td>\n",
       "      <td>11</td>\n",
       "      <td>12.3</td>\n",
       "    </tr>\n",
       "    <tr>\n",
       "      <th>2240</th>\n",
       "      <td>2240</td>\n",
       "      <td>NaN</td>\n",
       "      <td>52</td>\n",
       "      <td>1</td>\n",
       "      <td>14.2</td>\n",
       "    </tr>\n",
       "    <tr>\n",
       "      <th>2586</th>\n",
       "      <td>2586</td>\n",
       "      <td>NaN</td>\n",
       "      <td>104</td>\n",
       "      <td>13</td>\n",
       "      <td>12.4</td>\n",
       "    </tr>\n",
       "    <tr>\n",
       "      <th>3159</th>\n",
       "      <td>3159</td>\n",
       "      <td>NaN</td>\n",
       "      <td>126</td>\n",
       "      <td>11</td>\n",
       "      <td>13.1</td>\n",
       "    </tr>\n",
       "    <tr>\n",
       "      <th>3230</th>\n",
       "      <td>3230</td>\n",
       "      <td>NaN</td>\n",
       "      <td>120</td>\n",
       "      <td>16</td>\n",
       "      <td>14.4</td>\n",
       "    </tr>\n",
       "    <tr>\n",
       "      <th>3736</th>\n",
       "      <td>3736</td>\n",
       "      <td>NaN</td>\n",
       "      <td>41</td>\n",
       "      <td>8</td>\n",
       "      <td>14.8</td>\n",
       "    </tr>\n",
       "    <tr>\n",
       "      <th>4283</th>\n",
       "      <td>4283</td>\n",
       "      <td>NaN</td>\n",
       "      <td>77</td>\n",
       "      <td>7</td>\n",
       "      <td>14.4</td>\n",
       "    </tr>\n",
       "    <tr>\n",
       "      <th>4790</th>\n",
       "      <td>4790</td>\n",
       "      <td>NaN</td>\n",
       "      <td>91</td>\n",
       "      <td>16</td>\n",
       "      <td>14.5</td>\n",
       "    </tr>\n",
       "    <tr>\n",
       "      <th>38187</th>\n",
       "      <td>38183</td>\n",
       "      <td>NaN</td>\n",
       "      <td>39</td>\n",
       "      <td>12</td>\n",
       "      <td>20.9</td>\n",
       "    </tr>\n",
       "    <tr>\n",
       "      <th>40444</th>\n",
       "      <td>40440</td>\n",
       "      <td>NaN</td>\n",
       "      <td>120</td>\n",
       "      <td>16</td>\n",
       "      <td>14.8</td>\n",
       "    </tr>\n",
       "  </tbody>\n",
       "</table>\n",
       "</div>"
      ],
      "text/plain": [
       "       product_id product_name  aisle_id  department_id  prices\n",
       "33             34          NaN       121             14    12.2\n",
       "68             69          NaN        26              7    11.8\n",
       "115           116          NaN        93              3    10.8\n",
       "261           262          NaN       110             13    12.1\n",
       "525           525          NaN       109             11     1.2\n",
       "1511         1511          NaN        84             16    14.3\n",
       "1780         1780          NaN       126             11    12.3\n",
       "2240         2240          NaN        52              1    14.2\n",
       "2586         2586          NaN       104             13    12.4\n",
       "3159         3159          NaN       126             11    13.1\n",
       "3230         3230          NaN       120             16    14.4\n",
       "3736         3736          NaN        41              8    14.8\n",
       "4283         4283          NaN        77              7    14.4\n",
       "4790         4790          NaN        91             16    14.5\n",
       "38187       38183          NaN        39             12    20.9\n",
       "40444       40440          NaN       120             16    14.8"
      ]
     },
     "execution_count": 12,
     "metadata": {},
     "output_type": "execute_result"
    }
   ],
   "source": [
    "df_nan"
   ]
  },
  {
   "cell_type": "code",
   "execution_count": 13,
   "id": "f334612c-90b3-440b-b676-e7e3368d3aa3",
   "metadata": {},
   "outputs": [
    {
     "data": {
      "text/plain": [
       "(49693, 5)"
      ]
     },
     "execution_count": 13,
     "metadata": {},
     "output_type": "execute_result"
    }
   ],
   "source": [
    "products.shape"
   ]
  },
  {
   "cell_type": "code",
   "execution_count": 14,
   "id": "83c5cf53-8ebe-4ebe-a9ce-1a6433b3057c",
   "metadata": {},
   "outputs": [],
   "source": [
    "prods_clean = products[products['product_name'].isnull() == False]"
   ]
  },
  {
   "cell_type": "code",
   "execution_count": 15,
   "id": "e57634d5-63aa-4426-a821-6109a9d92ca6",
   "metadata": {},
   "outputs": [
    {
     "data": {
      "text/plain": [
       "(49677, 5)"
      ]
     },
     "execution_count": 15,
     "metadata": {},
     "output_type": "execute_result"
    }
   ],
   "source": [
    "prods_clean.shape"
   ]
  },
  {
   "cell_type": "markdown",
   "id": "945e7322-ec78-4045-8566-66b23e42d60b",
   "metadata": {},
   "source": [
    "### Address Duplicates"
   ]
  },
  {
   "cell_type": "code",
   "execution_count": 17,
   "id": "7f19d3d2-54ec-4e8e-99d4-cdbfe1785ff7",
   "metadata": {},
   "outputs": [],
   "source": [
    "df_dups = prods_clean[prods_clean.duplicated()]"
   ]
  },
  {
   "cell_type": "code",
   "execution_count": 18,
   "id": "6fe380b2-6811-423e-b616-8c2ad2d7ae5f",
   "metadata": {},
   "outputs": [
    {
     "data": {
      "text/html": [
       "<div>\n",
       "<style scoped>\n",
       "    .dataframe tbody tr th:only-of-type {\n",
       "        vertical-align: middle;\n",
       "    }\n",
       "\n",
       "    .dataframe tbody tr th {\n",
       "        vertical-align: top;\n",
       "    }\n",
       "\n",
       "    .dataframe thead th {\n",
       "        text-align: right;\n",
       "    }\n",
       "</style>\n",
       "<table border=\"1\" class=\"dataframe\">\n",
       "  <thead>\n",
       "    <tr style=\"text-align: right;\">\n",
       "      <th></th>\n",
       "      <th>product_id</th>\n",
       "      <th>product_name</th>\n",
       "      <th>aisle_id</th>\n",
       "      <th>department_id</th>\n",
       "      <th>prices</th>\n",
       "    </tr>\n",
       "  </thead>\n",
       "  <tbody>\n",
       "    <tr>\n",
       "      <th>462</th>\n",
       "      <td>462</td>\n",
       "      <td>Fiber 4g Gummy Dietary Supplement</td>\n",
       "      <td>70</td>\n",
       "      <td>11</td>\n",
       "      <td>4.8</td>\n",
       "    </tr>\n",
       "    <tr>\n",
       "      <th>18459</th>\n",
       "      <td>18458</td>\n",
       "      <td>Ranger IPA</td>\n",
       "      <td>27</td>\n",
       "      <td>5</td>\n",
       "      <td>9.2</td>\n",
       "    </tr>\n",
       "    <tr>\n",
       "      <th>26810</th>\n",
       "      <td>26808</td>\n",
       "      <td>Black House Coffee Roasty Stout Beer</td>\n",
       "      <td>27</td>\n",
       "      <td>5</td>\n",
       "      <td>13.4</td>\n",
       "    </tr>\n",
       "    <tr>\n",
       "      <th>35309</th>\n",
       "      <td>35306</td>\n",
       "      <td>Gluten Free Organic Peanut Butter &amp; Chocolate ...</td>\n",
       "      <td>121</td>\n",
       "      <td>14</td>\n",
       "      <td>6.8</td>\n",
       "    </tr>\n",
       "    <tr>\n",
       "      <th>35495</th>\n",
       "      <td>35491</td>\n",
       "      <td>Adore Forever Body Wash</td>\n",
       "      <td>127</td>\n",
       "      <td>11</td>\n",
       "      <td>9.9</td>\n",
       "    </tr>\n",
       "  </tbody>\n",
       "</table>\n",
       "</div>"
      ],
      "text/plain": [
       "       product_id                                       product_name  \\\n",
       "462           462                  Fiber 4g Gummy Dietary Supplement   \n",
       "18459       18458                                         Ranger IPA   \n",
       "26810       26808               Black House Coffee Roasty Stout Beer   \n",
       "35309       35306  Gluten Free Organic Peanut Butter & Chocolate ...   \n",
       "35495       35491                            Adore Forever Body Wash   \n",
       "\n",
       "       aisle_id  department_id  prices  \n",
       "462          70             11     4.8  \n",
       "18459        27              5     9.2  \n",
       "26810        27              5    13.4  \n",
       "35309       121             14     6.8  \n",
       "35495       127             11     9.9  "
      ]
     },
     "execution_count": 18,
     "metadata": {},
     "output_type": "execute_result"
    }
   ],
   "source": [
    "df_dups"
   ]
  },
  {
   "cell_type": "code",
   "execution_count": 19,
   "id": "51a5f3f8-e547-412e-88a3-5be107b290ab",
   "metadata": {},
   "outputs": [
    {
     "data": {
      "text/plain": [
       "(49677, 5)"
      ]
     },
     "execution_count": 19,
     "metadata": {},
     "output_type": "execute_result"
    }
   ],
   "source": [
    "prods_clean.shape"
   ]
  },
  {
   "cell_type": "code",
   "execution_count": 20,
   "id": "e6da6280-69c9-4595-965d-5ae0277f1d48",
   "metadata": {},
   "outputs": [],
   "source": [
    "prods_clean_no_dups = prods_clean.drop_duplicates()"
   ]
  },
  {
   "cell_type": "code",
   "execution_count": 21,
   "id": "c3942a98-6c1b-4491-9046-1c0b7fcc6d81",
   "metadata": {},
   "outputs": [
    {
     "data": {
      "text/plain": [
       "(49672, 5)"
      ]
     },
     "execution_count": 21,
     "metadata": {},
     "output_type": "execute_result"
    }
   ],
   "source": [
    "prods_clean_no_dups.shape"
   ]
  },
  {
   "cell_type": "code",
   "execution_count": 22,
   "id": "db55246d-7e6b-4b62-b9e7-beda97b96b6a",
   "metadata": {},
   "outputs": [],
   "source": [
    "# Export checked products df\n",
    "prods_clean_no_dups.to_csv(os.path.join(path, '02 Data','Prepared Data', 'products_checked.csv'))"
   ]
  },
  {
   "cell_type": "markdown",
   "id": "3e604fad-8018-48c5-a571-b80f9526bb7c",
   "metadata": {},
   "source": [
    "# 4.5 Task"
   ]
  },
  {
   "cell_type": "code",
   "execution_count": 24,
   "id": "05b197ee-b7c4-4d83-a1f2-2210dabf6f2e",
   "metadata": {},
   "outputs": [
    {
     "data": {
      "text/html": [
       "<div>\n",
       "<style scoped>\n",
       "    .dataframe tbody tr th:only-of-type {\n",
       "        vertical-align: middle;\n",
       "    }\n",
       "\n",
       "    .dataframe tbody tr th {\n",
       "        vertical-align: top;\n",
       "    }\n",
       "\n",
       "    .dataframe thead th {\n",
       "        text-align: right;\n",
       "    }\n",
       "</style>\n",
       "<table border=\"1\" class=\"dataframe\">\n",
       "  <thead>\n",
       "    <tr style=\"text-align: right;\">\n",
       "      <th></th>\n",
       "      <th>Unnamed: 0</th>\n",
       "      <th>order_id</th>\n",
       "      <th>user_id</th>\n",
       "      <th>number_of_orders</th>\n",
       "      <th>order_day_of_week</th>\n",
       "      <th>order_hour_of_day</th>\n",
       "      <th>days_since_prior_order</th>\n",
       "    </tr>\n",
       "  </thead>\n",
       "  <tbody>\n",
       "    <tr>\n",
       "      <th>count</th>\n",
       "      <td>3.421083e+06</td>\n",
       "      <td>3.421083e+06</td>\n",
       "      <td>3.421083e+06</td>\n",
       "      <td>3.421083e+06</td>\n",
       "      <td>3.421083e+06</td>\n",
       "      <td>3.421083e+06</td>\n",
       "      <td>3.214874e+06</td>\n",
       "    </tr>\n",
       "    <tr>\n",
       "      <th>mean</th>\n",
       "      <td>1.710541e+06</td>\n",
       "      <td>1.710542e+06</td>\n",
       "      <td>1.029782e+05</td>\n",
       "      <td>1.715486e+01</td>\n",
       "      <td>2.776219e+00</td>\n",
       "      <td>1.345202e+01</td>\n",
       "      <td>1.111484e+01</td>\n",
       "    </tr>\n",
       "    <tr>\n",
       "      <th>std</th>\n",
       "      <td>9.875817e+05</td>\n",
       "      <td>9.875817e+05</td>\n",
       "      <td>5.953372e+04</td>\n",
       "      <td>1.773316e+01</td>\n",
       "      <td>2.046829e+00</td>\n",
       "      <td>4.226088e+00</td>\n",
       "      <td>9.206737e+00</td>\n",
       "    </tr>\n",
       "    <tr>\n",
       "      <th>min</th>\n",
       "      <td>0.000000e+00</td>\n",
       "      <td>1.000000e+00</td>\n",
       "      <td>1.000000e+00</td>\n",
       "      <td>1.000000e+00</td>\n",
       "      <td>0.000000e+00</td>\n",
       "      <td>0.000000e+00</td>\n",
       "      <td>0.000000e+00</td>\n",
       "    </tr>\n",
       "    <tr>\n",
       "      <th>25%</th>\n",
       "      <td>8.552705e+05</td>\n",
       "      <td>8.552715e+05</td>\n",
       "      <td>5.139400e+04</td>\n",
       "      <td>5.000000e+00</td>\n",
       "      <td>1.000000e+00</td>\n",
       "      <td>1.000000e+01</td>\n",
       "      <td>4.000000e+00</td>\n",
       "    </tr>\n",
       "    <tr>\n",
       "      <th>50%</th>\n",
       "      <td>1.710541e+06</td>\n",
       "      <td>1.710542e+06</td>\n",
       "      <td>1.026890e+05</td>\n",
       "      <td>1.100000e+01</td>\n",
       "      <td>3.000000e+00</td>\n",
       "      <td>1.300000e+01</td>\n",
       "      <td>7.000000e+00</td>\n",
       "    </tr>\n",
       "    <tr>\n",
       "      <th>75%</th>\n",
       "      <td>2.565812e+06</td>\n",
       "      <td>2.565812e+06</td>\n",
       "      <td>1.543850e+05</td>\n",
       "      <td>2.300000e+01</td>\n",
       "      <td>5.000000e+00</td>\n",
       "      <td>1.600000e+01</td>\n",
       "      <td>1.500000e+01</td>\n",
       "    </tr>\n",
       "    <tr>\n",
       "      <th>max</th>\n",
       "      <td>3.421082e+06</td>\n",
       "      <td>3.421083e+06</td>\n",
       "      <td>2.062090e+05</td>\n",
       "      <td>1.000000e+02</td>\n",
       "      <td>6.000000e+00</td>\n",
       "      <td>2.300000e+01</td>\n",
       "      <td>3.000000e+01</td>\n",
       "    </tr>\n",
       "  </tbody>\n",
       "</table>\n",
       "</div>"
      ],
      "text/plain": [
       "         Unnamed: 0      order_id       user_id  number_of_orders  \\\n",
       "count  3.421083e+06  3.421083e+06  3.421083e+06      3.421083e+06   \n",
       "mean   1.710541e+06  1.710542e+06  1.029782e+05      1.715486e+01   \n",
       "std    9.875817e+05  9.875817e+05  5.953372e+04      1.773316e+01   \n",
       "min    0.000000e+00  1.000000e+00  1.000000e+00      1.000000e+00   \n",
       "25%    8.552705e+05  8.552715e+05  5.139400e+04      5.000000e+00   \n",
       "50%    1.710541e+06  1.710542e+06  1.026890e+05      1.100000e+01   \n",
       "75%    2.565812e+06  2.565812e+06  1.543850e+05      2.300000e+01   \n",
       "max    3.421082e+06  3.421083e+06  2.062090e+05      1.000000e+02   \n",
       "\n",
       "       order_day_of_week  order_hour_of_day  days_since_prior_order  \n",
       "count       3.421083e+06       3.421083e+06            3.214874e+06  \n",
       "mean        2.776219e+00       1.345202e+01            1.111484e+01  \n",
       "std         2.046829e+00       4.226088e+00            9.206737e+00  \n",
       "min         0.000000e+00       0.000000e+00            0.000000e+00  \n",
       "25%         1.000000e+00       1.000000e+01            4.000000e+00  \n",
       "50%         3.000000e+00       1.300000e+01            7.000000e+00  \n",
       "75%         5.000000e+00       1.600000e+01            1.500000e+01  \n",
       "max         6.000000e+00       2.300000e+01            3.000000e+01  "
      ]
     },
     "execution_count": 24,
     "metadata": {},
     "output_type": "execute_result"
    }
   ],
   "source": [
    "orders.describe()"
   ]
  },
  {
   "cell_type": "code",
   "execution_count": 25,
   "id": "3269adaa-ca10-4e56-b5a5-eb1d66b832c7",
   "metadata": {},
   "outputs": [],
   "source": [
    "# Set the display option to suppress scientific notation\n",
    "pd.set_option('display.float_format', lambda x: '%.2f' % x)"
   ]
  },
  {
   "cell_type": "code",
   "execution_count": 26,
   "id": "ffad27d3-ef66-4226-8024-0b65e8dc4315",
   "metadata": {},
   "outputs": [
    {
     "data": {
      "text/html": [
       "<div>\n",
       "<style scoped>\n",
       "    .dataframe tbody tr th:only-of-type {\n",
       "        vertical-align: middle;\n",
       "    }\n",
       "\n",
       "    .dataframe tbody tr th {\n",
       "        vertical-align: top;\n",
       "    }\n",
       "\n",
       "    .dataframe thead th {\n",
       "        text-align: right;\n",
       "    }\n",
       "</style>\n",
       "<table border=\"1\" class=\"dataframe\">\n",
       "  <thead>\n",
       "    <tr style=\"text-align: right;\">\n",
       "      <th></th>\n",
       "      <th>Unnamed: 0</th>\n",
       "      <th>order_id</th>\n",
       "      <th>user_id</th>\n",
       "      <th>number_of_orders</th>\n",
       "      <th>order_day_of_week</th>\n",
       "      <th>order_hour_of_day</th>\n",
       "      <th>days_since_prior_order</th>\n",
       "    </tr>\n",
       "  </thead>\n",
       "  <tbody>\n",
       "    <tr>\n",
       "      <th>count</th>\n",
       "      <td>3421083.00</td>\n",
       "      <td>3421083.00</td>\n",
       "      <td>3421083.00</td>\n",
       "      <td>3421083.00</td>\n",
       "      <td>3421083.00</td>\n",
       "      <td>3421083.00</td>\n",
       "      <td>3214874.00</td>\n",
       "    </tr>\n",
       "    <tr>\n",
       "      <th>mean</th>\n",
       "      <td>1710541.00</td>\n",
       "      <td>1710542.00</td>\n",
       "      <td>102978.21</td>\n",
       "      <td>17.15</td>\n",
       "      <td>2.78</td>\n",
       "      <td>13.45</td>\n",
       "      <td>11.11</td>\n",
       "    </tr>\n",
       "    <tr>\n",
       "      <th>std</th>\n",
       "      <td>987581.74</td>\n",
       "      <td>987581.74</td>\n",
       "      <td>59533.72</td>\n",
       "      <td>17.73</td>\n",
       "      <td>2.05</td>\n",
       "      <td>4.23</td>\n",
       "      <td>9.21</td>\n",
       "    </tr>\n",
       "    <tr>\n",
       "      <th>min</th>\n",
       "      <td>0.00</td>\n",
       "      <td>1.00</td>\n",
       "      <td>1.00</td>\n",
       "      <td>1.00</td>\n",
       "      <td>0.00</td>\n",
       "      <td>0.00</td>\n",
       "      <td>0.00</td>\n",
       "    </tr>\n",
       "    <tr>\n",
       "      <th>25%</th>\n",
       "      <td>855270.50</td>\n",
       "      <td>855271.50</td>\n",
       "      <td>51394.00</td>\n",
       "      <td>5.00</td>\n",
       "      <td>1.00</td>\n",
       "      <td>10.00</td>\n",
       "      <td>4.00</td>\n",
       "    </tr>\n",
       "    <tr>\n",
       "      <th>50%</th>\n",
       "      <td>1710541.00</td>\n",
       "      <td>1710542.00</td>\n",
       "      <td>102689.00</td>\n",
       "      <td>11.00</td>\n",
       "      <td>3.00</td>\n",
       "      <td>13.00</td>\n",
       "      <td>7.00</td>\n",
       "    </tr>\n",
       "    <tr>\n",
       "      <th>75%</th>\n",
       "      <td>2565811.50</td>\n",
       "      <td>2565812.50</td>\n",
       "      <td>154385.00</td>\n",
       "      <td>23.00</td>\n",
       "      <td>5.00</td>\n",
       "      <td>16.00</td>\n",
       "      <td>15.00</td>\n",
       "    </tr>\n",
       "    <tr>\n",
       "      <th>max</th>\n",
       "      <td>3421082.00</td>\n",
       "      <td>3421083.00</td>\n",
       "      <td>206209.00</td>\n",
       "      <td>100.00</td>\n",
       "      <td>6.00</td>\n",
       "      <td>23.00</td>\n",
       "      <td>30.00</td>\n",
       "    </tr>\n",
       "  </tbody>\n",
       "</table>\n",
       "</div>"
      ],
      "text/plain": [
       "       Unnamed: 0   order_id    user_id  number_of_orders  order_day_of_week  \\\n",
       "count  3421083.00 3421083.00 3421083.00        3421083.00         3421083.00   \n",
       "mean   1710541.00 1710542.00  102978.21             17.15               2.78   \n",
       "std     987581.74  987581.74   59533.72             17.73               2.05   \n",
       "min          0.00       1.00       1.00              1.00               0.00   \n",
       "25%     855270.50  855271.50   51394.00              5.00               1.00   \n",
       "50%    1710541.00 1710542.00  102689.00             11.00               3.00   \n",
       "75%    2565811.50 2565812.50  154385.00             23.00               5.00   \n",
       "max    3421082.00 3421083.00  206209.00            100.00               6.00   \n",
       "\n",
       "       order_hour_of_day  days_since_prior_order  \n",
       "count         3421083.00              3214874.00  \n",
       "mean               13.45                   11.11  \n",
       "std                 4.23                    9.21  \n",
       "min                 0.00                    0.00  \n",
       "25%                10.00                    4.00  \n",
       "50%                13.00                    7.00  \n",
       "75%                16.00                   15.00  \n",
       "max                23.00                   30.00  "
      ]
     },
     "execution_count": 26,
     "metadata": {},
     "output_type": "execute_result"
    }
   ],
   "source": [
    "orders.describe()"
   ]
  },
  {
   "cell_type": "markdown",
   "id": "d154669c-d225-46b6-a0ab-95d6253c5898",
   "metadata": {},
   "source": [
    "There are less entries (count) in days_since_prior_order than in the other columns. As there is a 0 recorded as the minimum, it is likely that there are blanks (missing) instead of blanks meaning \"zero days\". These missing values should be investigated. In user_id column, the max is less than the count. As this is not a numerical column, this discrepency should be investigated further. "
   ]
  },
  {
   "cell_type": "code",
   "execution_count": 28,
   "id": "9033c809-fd28-4164-8399-7d037e91be6e",
   "metadata": {},
   "outputs": [
    {
     "data": {
      "text/plain": [
       "Unnamed: 0                  int64\n",
       "order_id                    int64\n",
       "user_id                     int64\n",
       "number_of_orders            int64\n",
       "order_day_of_week           int64\n",
       "order_hour_of_day           int64\n",
       "days_since_prior_order    float64\n",
       "dtype: object"
      ]
     },
     "execution_count": 28,
     "metadata": {},
     "output_type": "execute_result"
    }
   ],
   "source": [
    "orders.dtypes"
   ]
  },
  {
   "cell_type": "code",
   "execution_count": 29,
   "id": "53106215-4653-4c05-912c-60db832e67bc",
   "metadata": {},
   "outputs": [],
   "source": [
    "orders['user_id'] = orders['user_id'].astype(str)"
   ]
  },
  {
   "cell_type": "code",
   "execution_count": 30,
   "id": "d3bcb1c3-e7e1-43e3-8a83-41d04e66b57d",
   "metadata": {},
   "outputs": [],
   "source": [
    "orders['order_id'] = orders['order_id'].astype(str)"
   ]
  },
  {
   "cell_type": "code",
   "execution_count": 31,
   "id": "47fe7d6b-8ada-405a-bd38-7350e9285de0",
   "metadata": {},
   "outputs": [
    {
     "data": {
      "text/plain": [
       "Unnamed: 0                  int64\n",
       "order_id                   object\n",
       "user_id                    object\n",
       "number_of_orders            int64\n",
       "order_day_of_week           int64\n",
       "order_hour_of_day           int64\n",
       "days_since_prior_order    float64\n",
       "dtype: object"
      ]
     },
     "execution_count": 31,
     "metadata": {},
     "output_type": "execute_result"
    }
   ],
   "source": [
    "orders.dtypes"
   ]
  },
  {
   "cell_type": "code",
   "execution_count": 32,
   "id": "42ed4584-8c14-4d39-87c4-15a9a100ebc8",
   "metadata": {},
   "outputs": [
    {
     "data": {
      "text/html": [
       "<div>\n",
       "<style scoped>\n",
       "    .dataframe tbody tr th:only-of-type {\n",
       "        vertical-align: middle;\n",
       "    }\n",
       "\n",
       "    .dataframe tbody tr th {\n",
       "        vertical-align: top;\n",
       "    }\n",
       "\n",
       "    .dataframe thead th {\n",
       "        text-align: right;\n",
       "    }\n",
       "</style>\n",
       "<table border=\"1\" class=\"dataframe\">\n",
       "  <thead>\n",
       "    <tr style=\"text-align: right;\">\n",
       "      <th></th>\n",
       "      <th>Unnamed: 0</th>\n",
       "      <th>number_of_orders</th>\n",
       "      <th>order_day_of_week</th>\n",
       "      <th>order_hour_of_day</th>\n",
       "      <th>days_since_prior_order</th>\n",
       "    </tr>\n",
       "  </thead>\n",
       "  <tbody>\n",
       "    <tr>\n",
       "      <th>count</th>\n",
       "      <td>3421083.00</td>\n",
       "      <td>3421083.00</td>\n",
       "      <td>3421083.00</td>\n",
       "      <td>3421083.00</td>\n",
       "      <td>3214874.00</td>\n",
       "    </tr>\n",
       "    <tr>\n",
       "      <th>mean</th>\n",
       "      <td>1710541.00</td>\n",
       "      <td>17.15</td>\n",
       "      <td>2.78</td>\n",
       "      <td>13.45</td>\n",
       "      <td>11.11</td>\n",
       "    </tr>\n",
       "    <tr>\n",
       "      <th>std</th>\n",
       "      <td>987581.74</td>\n",
       "      <td>17.73</td>\n",
       "      <td>2.05</td>\n",
       "      <td>4.23</td>\n",
       "      <td>9.21</td>\n",
       "    </tr>\n",
       "    <tr>\n",
       "      <th>min</th>\n",
       "      <td>0.00</td>\n",
       "      <td>1.00</td>\n",
       "      <td>0.00</td>\n",
       "      <td>0.00</td>\n",
       "      <td>0.00</td>\n",
       "    </tr>\n",
       "    <tr>\n",
       "      <th>25%</th>\n",
       "      <td>855270.50</td>\n",
       "      <td>5.00</td>\n",
       "      <td>1.00</td>\n",
       "      <td>10.00</td>\n",
       "      <td>4.00</td>\n",
       "    </tr>\n",
       "    <tr>\n",
       "      <th>50%</th>\n",
       "      <td>1710541.00</td>\n",
       "      <td>11.00</td>\n",
       "      <td>3.00</td>\n",
       "      <td>13.00</td>\n",
       "      <td>7.00</td>\n",
       "    </tr>\n",
       "    <tr>\n",
       "      <th>75%</th>\n",
       "      <td>2565811.50</td>\n",
       "      <td>23.00</td>\n",
       "      <td>5.00</td>\n",
       "      <td>16.00</td>\n",
       "      <td>15.00</td>\n",
       "    </tr>\n",
       "    <tr>\n",
       "      <th>max</th>\n",
       "      <td>3421082.00</td>\n",
       "      <td>100.00</td>\n",
       "      <td>6.00</td>\n",
       "      <td>23.00</td>\n",
       "      <td>30.00</td>\n",
       "    </tr>\n",
       "  </tbody>\n",
       "</table>\n",
       "</div>"
      ],
      "text/plain": [
       "       Unnamed: 0  number_of_orders  order_day_of_week  order_hour_of_day  \\\n",
       "count  3421083.00        3421083.00         3421083.00         3421083.00   \n",
       "mean   1710541.00             17.15               2.78              13.45   \n",
       "std     987581.74             17.73               2.05               4.23   \n",
       "min          0.00              1.00               0.00               0.00   \n",
       "25%     855270.50              5.00               1.00              10.00   \n",
       "50%    1710541.00             11.00               3.00              13.00   \n",
       "75%    2565811.50             23.00               5.00              16.00   \n",
       "max    3421082.00            100.00               6.00              23.00   \n",
       "\n",
       "       days_since_prior_order  \n",
       "count              3214874.00  \n",
       "mean                    11.11  \n",
       "std                      9.21  \n",
       "min                      0.00  \n",
       "25%                      4.00  \n",
       "50%                      7.00  \n",
       "75%                     15.00  \n",
       "max                     30.00  "
      ]
     },
     "execution_count": 32,
     "metadata": {},
     "output_type": "execute_result"
    }
   ],
   "source": [
    "orders.describe()"
   ]
  },
  {
   "cell_type": "code",
   "execution_count": 33,
   "id": "8a4a533c-4977-4eea-8b51-4350928961aa",
   "metadata": {},
   "outputs": [],
   "source": [
    "# Check for mixed data types\n",
    "for col in orders.columns.tolist():\n",
    "  weird = (orders[[col]].map(type) != orders[[col]].iloc[0].apply(type)).any(axis = 1)\n",
    "  if len (orders[weird]) > 0:\n",
    "    print (col)"
   ]
  },
  {
   "cell_type": "markdown",
   "id": "a467b672-bc16-4b17-a420-1dceb614f116",
   "metadata": {},
   "source": [
    "There are no mixed data types in orders.csv"
   ]
  },
  {
   "cell_type": "code",
   "execution_count": 35,
   "id": "eebd73cb-9f4c-45a6-9b34-19580fce1f7a",
   "metadata": {},
   "outputs": [
    {
     "data": {
      "text/plain": [
       "(3421083, 7)"
      ]
     },
     "execution_count": 35,
     "metadata": {},
     "output_type": "execute_result"
    }
   ],
   "source": [
    "orders.shape"
   ]
  },
  {
   "cell_type": "code",
   "execution_count": 36,
   "id": "aa3f5050-5356-4d05-acbc-3e917e744703",
   "metadata": {},
   "outputs": [
    {
     "data": {
      "text/plain": [
       "Unnamed: 0                     0\n",
       "order_id                       0\n",
       "user_id                        0\n",
       "number_of_orders               0\n",
       "order_day_of_week              0\n",
       "order_hour_of_day              0\n",
       "days_since_prior_order    206209\n",
       "dtype: int64"
      ]
     },
     "execution_count": 36,
     "metadata": {},
     "output_type": "execute_result"
    }
   ],
   "source": [
    "# Check orders CSV for nulls\n",
    "\n",
    "orders.isnull().sum()"
   ]
  },
  {
   "cell_type": "markdown",
   "id": "eb6a4263-d8c4-4b18-a552-8573a37a4558",
   "metadata": {},
   "source": [
    "There are 206,209 nulls, all in the days_since_prior_order column.`"
   ]
  },
  {
   "cell_type": "code",
   "execution_count": 38,
   "id": "9271bf8b-2ecb-4c00-ba56-d1b7878423a6",
   "metadata": {},
   "outputs": [
    {
     "data": {
      "text/plain": [
       "0           NaN\n",
       "1         15.00\n",
       "2         21.00\n",
       "3         29.00\n",
       "4         28.00\n",
       "           ... \n",
       "3421078   29.00\n",
       "3421079   30.00\n",
       "3421080   18.00\n",
       "3421081    7.00\n",
       "3421082   30.00\n",
       "Name: days_since_prior_order, Length: 3421083, dtype: float64"
      ]
     },
     "execution_count": 38,
     "metadata": {},
     "output_type": "execute_result"
    }
   ],
   "source": [
    "#Investigating blanks\n",
    "\n",
    "orders['days_since_prior_order']"
   ]
  },
  {
   "cell_type": "code",
   "execution_count": 39,
   "id": "aa2caa81-7b68-41b8-ae89-f9284c828f0b",
   "metadata": {},
   "outputs": [],
   "source": [
    "#Investigating blanks - null table\n",
    "\n",
    "df_nan_ords =  orders[orders['days_since_prior_order'].isnull()==True]"
   ]
  },
  {
   "cell_type": "code",
   "execution_count": 40,
   "id": "b1365ca4-bbfe-4f9f-822b-ccc7e7affa0d",
   "metadata": {},
   "outputs": [
    {
     "data": {
      "text/html": [
       "<div>\n",
       "<style scoped>\n",
       "    .dataframe tbody tr th:only-of-type {\n",
       "        vertical-align: middle;\n",
       "    }\n",
       "\n",
       "    .dataframe tbody tr th {\n",
       "        vertical-align: top;\n",
       "    }\n",
       "\n",
       "    .dataframe thead th {\n",
       "        text-align: right;\n",
       "    }\n",
       "</style>\n",
       "<table border=\"1\" class=\"dataframe\">\n",
       "  <thead>\n",
       "    <tr style=\"text-align: right;\">\n",
       "      <th></th>\n",
       "      <th>Unnamed: 0</th>\n",
       "      <th>order_id</th>\n",
       "      <th>user_id</th>\n",
       "      <th>number_of_orders</th>\n",
       "      <th>order_day_of_week</th>\n",
       "      <th>order_hour_of_day</th>\n",
       "      <th>days_since_prior_order</th>\n",
       "    </tr>\n",
       "  </thead>\n",
       "  <tbody>\n",
       "    <tr>\n",
       "      <th>0</th>\n",
       "      <td>0</td>\n",
       "      <td>2539329</td>\n",
       "      <td>1</td>\n",
       "      <td>1</td>\n",
       "      <td>2</td>\n",
       "      <td>8</td>\n",
       "      <td>NaN</td>\n",
       "    </tr>\n",
       "    <tr>\n",
       "      <th>11</th>\n",
       "      <td>11</td>\n",
       "      <td>2168274</td>\n",
       "      <td>2</td>\n",
       "      <td>1</td>\n",
       "      <td>2</td>\n",
       "      <td>11</td>\n",
       "      <td>NaN</td>\n",
       "    </tr>\n",
       "    <tr>\n",
       "      <th>26</th>\n",
       "      <td>26</td>\n",
       "      <td>1374495</td>\n",
       "      <td>3</td>\n",
       "      <td>1</td>\n",
       "      <td>1</td>\n",
       "      <td>14</td>\n",
       "      <td>NaN</td>\n",
       "    </tr>\n",
       "    <tr>\n",
       "      <th>39</th>\n",
       "      <td>39</td>\n",
       "      <td>3343014</td>\n",
       "      <td>4</td>\n",
       "      <td>1</td>\n",
       "      <td>6</td>\n",
       "      <td>11</td>\n",
       "      <td>NaN</td>\n",
       "    </tr>\n",
       "    <tr>\n",
       "      <th>45</th>\n",
       "      <td>45</td>\n",
       "      <td>2717275</td>\n",
       "      <td>5</td>\n",
       "      <td>1</td>\n",
       "      <td>3</td>\n",
       "      <td>12</td>\n",
       "      <td>NaN</td>\n",
       "    </tr>\n",
       "    <tr>\n",
       "      <th>...</th>\n",
       "      <td>...</td>\n",
       "      <td>...</td>\n",
       "      <td>...</td>\n",
       "      <td>...</td>\n",
       "      <td>...</td>\n",
       "      <td>...</td>\n",
       "      <td>...</td>\n",
       "    </tr>\n",
       "    <tr>\n",
       "      <th>3420930</th>\n",
       "      <td>3420930</td>\n",
       "      <td>969311</td>\n",
       "      <td>206205</td>\n",
       "      <td>1</td>\n",
       "      <td>4</td>\n",
       "      <td>12</td>\n",
       "      <td>NaN</td>\n",
       "    </tr>\n",
       "    <tr>\n",
       "      <th>3420934</th>\n",
       "      <td>3420934</td>\n",
       "      <td>3189322</td>\n",
       "      <td>206206</td>\n",
       "      <td>1</td>\n",
       "      <td>3</td>\n",
       "      <td>18</td>\n",
       "      <td>NaN</td>\n",
       "    </tr>\n",
       "    <tr>\n",
       "      <th>3421002</th>\n",
       "      <td>3421002</td>\n",
       "      <td>2166133</td>\n",
       "      <td>206207</td>\n",
       "      <td>1</td>\n",
       "      <td>6</td>\n",
       "      <td>19</td>\n",
       "      <td>NaN</td>\n",
       "    </tr>\n",
       "    <tr>\n",
       "      <th>3421019</th>\n",
       "      <td>3421019</td>\n",
       "      <td>2227043</td>\n",
       "      <td>206208</td>\n",
       "      <td>1</td>\n",
       "      <td>1</td>\n",
       "      <td>15</td>\n",
       "      <td>NaN</td>\n",
       "    </tr>\n",
       "    <tr>\n",
       "      <th>3421069</th>\n",
       "      <td>3421069</td>\n",
       "      <td>3154581</td>\n",
       "      <td>206209</td>\n",
       "      <td>1</td>\n",
       "      <td>3</td>\n",
       "      <td>11</td>\n",
       "      <td>NaN</td>\n",
       "    </tr>\n",
       "  </tbody>\n",
       "</table>\n",
       "<p>206209 rows × 7 columns</p>\n",
       "</div>"
      ],
      "text/plain": [
       "         Unnamed: 0 order_id user_id  number_of_orders  order_day_of_week  \\\n",
       "0                 0  2539329       1                 1                  2   \n",
       "11               11  2168274       2                 1                  2   \n",
       "26               26  1374495       3                 1                  1   \n",
       "39               39  3343014       4                 1                  6   \n",
       "45               45  2717275       5                 1                  3   \n",
       "...             ...      ...     ...               ...                ...   \n",
       "3420930     3420930   969311  206205                 1                  4   \n",
       "3420934     3420934  3189322  206206                 1                  3   \n",
       "3421002     3421002  2166133  206207                 1                  6   \n",
       "3421019     3421019  2227043  206208                 1                  1   \n",
       "3421069     3421069  3154581  206209                 1                  3   \n",
       "\n",
       "         order_hour_of_day  days_since_prior_order  \n",
       "0                        8                     NaN  \n",
       "11                      11                     NaN  \n",
       "26                      14                     NaN  \n",
       "39                      11                     NaN  \n",
       "45                      12                     NaN  \n",
       "...                    ...                     ...  \n",
       "3420930                 12                     NaN  \n",
       "3420934                 18                     NaN  \n",
       "3421002                 19                     NaN  \n",
       "3421019                 15                     NaN  \n",
       "3421069                 11                     NaN  \n",
       "\n",
       "[206209 rows x 7 columns]"
      ]
     },
     "execution_count": 40,
     "metadata": {},
     "output_type": "execute_result"
    }
   ],
   "source": [
    "df_nan_ords"
   ]
  },
  {
   "cell_type": "markdown",
   "id": "5cb0e3b0-b07c-4e9f-812f-3b20809d4bea",
   "metadata": {},
   "source": [
    "All null entries in days_since_prior_order have '1' listed under number_of_orders. These entries are likely for a customers first purchase, and thus there is no available date of prior order.\n"
   ]
  },
  {
   "cell_type": "markdown",
   "id": "031513bb-342a-4de1-a294-23e951736533",
   "metadata": {},
   "source": [
    "In this case, a null entry is as informative as a numerical entry. This column should remain in the dataset and no numbers should be input.\n"
   ]
  },
  {
   "cell_type": "code",
   "execution_count": 43,
   "id": "679fddc5-643d-4734-b29c-e41eb202cb5f",
   "metadata": {},
   "outputs": [],
   "source": [
    "df_dups_ords = orders[orders.duplicated()]"
   ]
  },
  {
   "cell_type": "code",
   "execution_count": 44,
   "id": "cff43b70-3df1-462c-92cc-fc0242c1ad7b",
   "metadata": {},
   "outputs": [
    {
     "data": {
      "text/html": [
       "<div>\n",
       "<style scoped>\n",
       "    .dataframe tbody tr th:only-of-type {\n",
       "        vertical-align: middle;\n",
       "    }\n",
       "\n",
       "    .dataframe tbody tr th {\n",
       "        vertical-align: top;\n",
       "    }\n",
       "\n",
       "    .dataframe thead th {\n",
       "        text-align: right;\n",
       "    }\n",
       "</style>\n",
       "<table border=\"1\" class=\"dataframe\">\n",
       "  <thead>\n",
       "    <tr style=\"text-align: right;\">\n",
       "      <th></th>\n",
       "      <th>Unnamed: 0</th>\n",
       "      <th>order_id</th>\n",
       "      <th>user_id</th>\n",
       "      <th>number_of_orders</th>\n",
       "      <th>order_day_of_week</th>\n",
       "      <th>order_hour_of_day</th>\n",
       "      <th>days_since_prior_order</th>\n",
       "    </tr>\n",
       "  </thead>\n",
       "  <tbody>\n",
       "  </tbody>\n",
       "</table>\n",
       "</div>"
      ],
      "text/plain": [
       "Empty DataFrame\n",
       "Columns: [Unnamed: 0, order_id, user_id, number_of_orders, order_day_of_week, order_hour_of_day, days_since_prior_order]\n",
       "Index: []"
      ]
     },
     "execution_count": 44,
     "metadata": {},
     "output_type": "execute_result"
    }
   ],
   "source": [
    "df_dups_ords"
   ]
  },
  {
   "cell_type": "markdown",
   "id": "3bdd6857-ef6c-49a7-a2a2-8929640193be",
   "metadata": {},
   "source": [
    "There are no duplicates in orders.csv."
   ]
  },
  {
   "cell_type": "markdown",
   "id": "c76e5410-be14-4123-9230-b7534f18b96e",
   "metadata": {},
   "source": [
    "## Export"
   ]
  },
  {
   "cell_type": "code",
   "execution_count": 47,
   "id": "0d9ac158-553d-465f-836d-156fa187abaa",
   "metadata": {},
   "outputs": [
    {
     "data": {
      "text/plain": [
       "(3421083, 7)"
      ]
     },
     "execution_count": 47,
     "metadata": {},
     "output_type": "execute_result"
    }
   ],
   "source": [
    "orders.shape"
   ]
  },
  {
   "cell_type": "code",
   "execution_count": 48,
   "id": "ed7eae97-50ee-4e34-a4ed-708281440c07",
   "metadata": {},
   "outputs": [],
   "source": [
    "orders.to_csv(os.path.join(path, '02 Data','Prepared Data', 'orders_checked.csv'))"
   ]
  },
  {
   "cell_type": "code",
   "execution_count": null,
   "id": "dbd85279-e881-417a-969b-f19cb644d7a4",
   "metadata": {},
   "outputs": [],
   "source": []
  }
 ],
 "metadata": {
  "kernelspec": {
   "display_name": "Python 3 (ipykernel)",
   "language": "python",
   "name": "python3"
  },
  "language_info": {
   "codemirror_mode": {
    "name": "ipython",
    "version": 3
   },
   "file_extension": ".py",
   "mimetype": "text/x-python",
   "name": "python",
   "nbconvert_exporter": "python",
   "pygments_lexer": "ipython3",
   "version": "3.11.7"
  }
 },
 "nbformat": 4,
 "nbformat_minor": 5
}
